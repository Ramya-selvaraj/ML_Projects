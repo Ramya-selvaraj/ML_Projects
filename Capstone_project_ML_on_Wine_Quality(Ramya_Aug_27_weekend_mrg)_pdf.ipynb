{
  "cells": [
    {
      "cell_type": "markdown",
      "id": "bdcb42b7-7396-4574-b4ac-f6c7664f23de",
      "metadata": {
        "id": "bdcb42b7-7396-4574-b4ac-f6c7664f23de"
      },
      "source": [
        "### Importing the neccessary libraries"
      ]
    },
    {
      "cell_type": "code",
      "execution_count": null,
      "id": "6e403b72-5263-4b6e-bf3a-43f529a19e75",
      "metadata": {
        "id": "6e403b72-5263-4b6e-bf3a-43f529a19e75"
      },
      "outputs": [],
      "source": [
        "\n",
        "import pandas as pd\n",
        "import numpy as np\n",
        "import matplotlib.pyplot as plt\n",
        "import seaborn as sns\n",
        "from sklearn.model_selection import train_test_split\n",
        "from sklearn.ensemble import RandomForestClassifier\n",
        "from sklearn.metrics import accuracy_score\n",
        "from sklearn.preprocessing import LabelEncoder\n",
        "from sklearn.metrics import roc_curve, roc_auc_score\n",
        "from sklearn.metrics import confusion_matrix\n",
        "from sklearn.metrics import classification_report\n",
        "from sklearn.model_selection import KFold, cross_val_score\n",
        "from sklearn.model_selection import  GridSearchCV\n",
        "from sklearn.ensemble import RandomForestClassifier\n",
        "%matplotlib inline"
      ]
    },
    {
      "cell_type": "code",
      "execution_count": null,
      "id": "2ff7f024-d7fd-4943-b33d-0f807db4bdd5",
      "metadata": {
        "id": "2ff7f024-d7fd-4943-b33d-0f807db4bdd5"
      },
      "outputs": [],
      "source": [
        "# importing the data\n",
        "winedata = pd.read_csv(\"QualityPrediction.csv\")"
      ]
    },
    {
      "cell_type": "code",
      "execution_count": null,
      "id": "41b4831a-1649-477e-b50c-03627af0cdd4",
      "metadata": {
        "id": "41b4831a-1649-477e-b50c-03627af0cdd4",
        "outputId": "a323973d-b64c-4410-815d-56f933ee339e"
      },
      "outputs": [
        {
          "data": {
            "text/html": [
              "<div>\n",
              "<style scoped>\n",
              "    .dataframe tbody tr th:only-of-type {\n",
              "        vertical-align: middle;\n",
              "    }\n",
              "\n",
              "    .dataframe tbody tr th {\n",
              "        vertical-align: top;\n",
              "    }\n",
              "\n",
              "    .dataframe thead th {\n",
              "        text-align: right;\n",
              "    }\n",
              "</style>\n",
              "<table border=\"1\" class=\"dataframe\">\n",
              "  <thead>\n",
              "    <tr style=\"text-align: right;\">\n",
              "      <th></th>\n",
              "      <th>fixed acidity</th>\n",
              "      <th>volatile acidity</th>\n",
              "      <th>citric acid</th>\n",
              "      <th>residual sugar</th>\n",
              "      <th>chlorides</th>\n",
              "      <th>free sulfur dioxide</th>\n",
              "      <th>total sulfur dioxide</th>\n",
              "      <th>density</th>\n",
              "      <th>pH</th>\n",
              "      <th>sulphates</th>\n",
              "      <th>alcohol</th>\n",
              "      <th>quality</th>\n",
              "    </tr>\n",
              "  </thead>\n",
              "  <tbody>\n",
              "    <tr>\n",
              "      <th>0</th>\n",
              "      <td>7.4</td>\n",
              "      <td>0.70</td>\n",
              "      <td>0.00</td>\n",
              "      <td>1.9</td>\n",
              "      <td>0.076</td>\n",
              "      <td>11.0</td>\n",
              "      <td>34.0</td>\n",
              "      <td>0.9978</td>\n",
              "      <td>3.51</td>\n",
              "      <td>0.56</td>\n",
              "      <td>9.4</td>\n",
              "      <td>5</td>\n",
              "    </tr>\n",
              "    <tr>\n",
              "      <th>1</th>\n",
              "      <td>7.8</td>\n",
              "      <td>0.88</td>\n",
              "      <td>0.00</td>\n",
              "      <td>2.6</td>\n",
              "      <td>0.098</td>\n",
              "      <td>25.0</td>\n",
              "      <td>67.0</td>\n",
              "      <td>0.9968</td>\n",
              "      <td>3.20</td>\n",
              "      <td>0.68</td>\n",
              "      <td>9.8</td>\n",
              "      <td>5</td>\n",
              "    </tr>\n",
              "    <tr>\n",
              "      <th>2</th>\n",
              "      <td>7.8</td>\n",
              "      <td>0.76</td>\n",
              "      <td>0.04</td>\n",
              "      <td>2.3</td>\n",
              "      <td>0.092</td>\n",
              "      <td>15.0</td>\n",
              "      <td>54.0</td>\n",
              "      <td>0.9970</td>\n",
              "      <td>3.26</td>\n",
              "      <td>0.65</td>\n",
              "      <td>9.8</td>\n",
              "      <td>5</td>\n",
              "    </tr>\n",
              "    <tr>\n",
              "      <th>3</th>\n",
              "      <td>11.2</td>\n",
              "      <td>0.28</td>\n",
              "      <td>0.56</td>\n",
              "      <td>1.9</td>\n",
              "      <td>0.075</td>\n",
              "      <td>17.0</td>\n",
              "      <td>60.0</td>\n",
              "      <td>0.9980</td>\n",
              "      <td>3.16</td>\n",
              "      <td>0.58</td>\n",
              "      <td>9.8</td>\n",
              "      <td>6</td>\n",
              "    </tr>\n",
              "    <tr>\n",
              "      <th>4</th>\n",
              "      <td>7.4</td>\n",
              "      <td>0.70</td>\n",
              "      <td>0.00</td>\n",
              "      <td>1.9</td>\n",
              "      <td>0.076</td>\n",
              "      <td>11.0</td>\n",
              "      <td>34.0</td>\n",
              "      <td>0.9978</td>\n",
              "      <td>3.51</td>\n",
              "      <td>0.56</td>\n",
              "      <td>9.4</td>\n",
              "      <td>5</td>\n",
              "    </tr>\n",
              "  </tbody>\n",
              "</table>\n",
              "</div>"
            ],
            "text/plain": [
              "   fixed acidity  volatile acidity  citric acid  residual sugar  chlorides  \\\n",
              "0            7.4              0.70         0.00             1.9      0.076   \n",
              "1            7.8              0.88         0.00             2.6      0.098   \n",
              "2            7.8              0.76         0.04             2.3      0.092   \n",
              "3           11.2              0.28         0.56             1.9      0.075   \n",
              "4            7.4              0.70         0.00             1.9      0.076   \n",
              "\n",
              "   free sulfur dioxide  total sulfur dioxide  density    pH  sulphates  \\\n",
              "0                 11.0                  34.0   0.9978  3.51       0.56   \n",
              "1                 25.0                  67.0   0.9968  3.20       0.68   \n",
              "2                 15.0                  54.0   0.9970  3.26       0.65   \n",
              "3                 17.0                  60.0   0.9980  3.16       0.58   \n",
              "4                 11.0                  34.0   0.9978  3.51       0.56   \n",
              "\n",
              "   alcohol  quality  \n",
              "0      9.4        5  \n",
              "1      9.8        5  \n",
              "2      9.8        5  \n",
              "3      9.8        6  \n",
              "4      9.4        5  "
            ]
          },
          "execution_count": 11,
          "metadata": {},
          "output_type": "execute_result"
        }
      ],
      "source": [
        "winedata.head(5)"
      ]
    },
    {
      "cell_type": "code",
      "execution_count": null,
      "id": "974cdc1c-3584-4670-830c-418bb0bde039",
      "metadata": {
        "id": "974cdc1c-3584-4670-830c-418bb0bde039",
        "outputId": "cfb02891-1032-42fd-c05e-9c5934d962b0"
      },
      "outputs": [
        {
          "data": {
            "text/plain": [
              "Index(['fixed acidity', 'volatile acidity', 'citric acid', 'residual sugar',\n",
              "       'chlorides', 'free sulfur dioxide', 'total sulfur dioxide', 'density',\n",
              "       'pH', 'sulphates', 'alcohol', 'quality'],\n",
              "      dtype='object')"
            ]
          },
          "execution_count": 12,
          "metadata": {},
          "output_type": "execute_result"
        }
      ],
      "source": [
        "winedata.columns"
      ]
    },
    {
      "cell_type": "code",
      "execution_count": null,
      "id": "c1a937c7-afe8-4b43-95e7-1fb447972723",
      "metadata": {
        "id": "c1a937c7-afe8-4b43-95e7-1fb447972723",
        "outputId": "8601b8f5-c4be-4d2c-a590-1b1517b2d897"
      },
      "outputs": [
        {
          "data": {
            "text/plain": [
              "(1599, 12)"
            ]
          },
          "execution_count": 13,
          "metadata": {},
          "output_type": "execute_result"
        }
      ],
      "source": [
        "winedata.shape"
      ]
    },
    {
      "cell_type": "code",
      "execution_count": null,
      "id": "a21800eb-af95-4acc-8c53-a5dd14c72d16",
      "metadata": {
        "id": "a21800eb-af95-4acc-8c53-a5dd14c72d16",
        "outputId": "7aec8a6f-66e1-4ede-a141-ed47ee72de7f"
      },
      "outputs": [
        {
          "name": "stdout",
          "output_type": "stream",
          "text": [
            "<class 'pandas.core.frame.DataFrame'>\n",
            "RangeIndex: 1599 entries, 0 to 1598\n",
            "Data columns (total 12 columns):\n",
            " #   Column                Non-Null Count  Dtype  \n",
            "---  ------                --------------  -----  \n",
            " 0   fixed acidity         1599 non-null   float64\n",
            " 1   volatile acidity      1599 non-null   float64\n",
            " 2   citric acid           1599 non-null   float64\n",
            " 3   residual sugar        1599 non-null   float64\n",
            " 4   chlorides             1599 non-null   float64\n",
            " 5   free sulfur dioxide   1599 non-null   float64\n",
            " 6   total sulfur dioxide  1599 non-null   float64\n",
            " 7   density               1599 non-null   float64\n",
            " 8   pH                    1599 non-null   float64\n",
            " 9   sulphates             1599 non-null   float64\n",
            " 10  alcohol               1599 non-null   float64\n",
            " 11  quality               1599 non-null   int64  \n",
            "dtypes: float64(11), int64(1)\n",
            "memory usage: 150.0 KB\n"
          ]
        }
      ],
      "source": [
        "#Checking information about the data\n",
        "winedata.info()"
      ]
    },
    {
      "cell_type": "code",
      "execution_count": null,
      "id": "bf9c04e7-3d59-407a-bb63-c03e289aee6a",
      "metadata": {
        "id": "bf9c04e7-3d59-407a-bb63-c03e289aee6a",
        "outputId": "88796fd3-d2c4-4482-f15b-4821a82812a3"
      },
      "outputs": [
        {
          "data": {
            "text/plain": [
              "fixed acidity           0\n",
              "volatile acidity        0\n",
              "citric acid             0\n",
              "residual sugar          0\n",
              "chlorides               0\n",
              "free sulfur dioxide     0\n",
              "total sulfur dioxide    0\n",
              "density                 0\n",
              "pH                      0\n",
              "sulphates               0\n",
              "alcohol                 0\n",
              "quality                 0\n",
              "dtype: int64"
            ]
          },
          "execution_count": 15,
          "metadata": {},
          "output_type": "execute_result"
        }
      ],
      "source": [
        "#checking null values\n",
        "winedata.isnull().sum()"
      ]
    },
    {
      "cell_type": "code",
      "execution_count": null,
      "id": "b4cb457b-d8c4-4a87-9214-7338a550ab42",
      "metadata": {
        "id": "b4cb457b-d8c4-4a87-9214-7338a550ab42"
      },
      "outputs": [],
      "source": [
        "#Renaming the cols to avoid unwanted errors\n",
        "winedata= winedata.rename(columns={'fixed acidity': 'fixed_acidity', 'volatile acidity': 'volatile_acidity', 'citric acid': 'citric_acid', 'residual sugar': 'residual_sugar', 'free sulfur dioxide' : 'free_sulfur_dioxide', 'total sulfur dioxide': 'total_sulfur_dioxide'})"
      ]
    },
    {
      "cell_type": "markdown",
      "id": "a1d89be1-3089-4fb4-9bda-a0f59eb90ee5",
      "metadata": {
        "id": "a1d89be1-3089-4fb4-9bda-a0f59eb90ee5"
      },
      "source": [
        "### Data Analysis"
      ]
    },
    {
      "cell_type": "code",
      "execution_count": null,
      "id": "becc3a78-432d-44cd-bd6a-4b6bf9d37a43",
      "metadata": {
        "id": "becc3a78-432d-44cd-bd6a-4b6bf9d37a43",
        "outputId": "924bf3bd-dd90-48e8-f8f9-fea5e8068e76"
      },
      "outputs": [
        {
          "data": {
            "text/html": [
              "<div>\n",
              "<style scoped>\n",
              "    .dataframe tbody tr th:only-of-type {\n",
              "        vertical-align: middle;\n",
              "    }\n",
              "\n",
              "    .dataframe tbody tr th {\n",
              "        vertical-align: top;\n",
              "    }\n",
              "\n",
              "    .dataframe thead th {\n",
              "        text-align: right;\n",
              "    }\n",
              "</style>\n",
              "<table border=\"1\" class=\"dataframe\">\n",
              "  <thead>\n",
              "    <tr style=\"text-align: right;\">\n",
              "      <th></th>\n",
              "      <th>fixed_acidity</th>\n",
              "      <th>volatile_acidity</th>\n",
              "      <th>citric_acid</th>\n",
              "      <th>residual_sugar</th>\n",
              "      <th>chlorides</th>\n",
              "      <th>free_sulfur_dioxide</th>\n",
              "      <th>total_sulfur_dioxide</th>\n",
              "      <th>density</th>\n",
              "      <th>pH</th>\n",
              "      <th>sulphates</th>\n",
              "      <th>alcohol</th>\n",
              "      <th>quality</th>\n",
              "    </tr>\n",
              "  </thead>\n",
              "  <tbody>\n",
              "    <tr>\n",
              "      <th>count</th>\n",
              "      <td>1599.000000</td>\n",
              "      <td>1599.000000</td>\n",
              "      <td>1599.000000</td>\n",
              "      <td>1599.000000</td>\n",
              "      <td>1599.000000</td>\n",
              "      <td>1599.000000</td>\n",
              "      <td>1599.000000</td>\n",
              "      <td>1599.000000</td>\n",
              "      <td>1599.000000</td>\n",
              "      <td>1599.000000</td>\n",
              "      <td>1599.000000</td>\n",
              "      <td>1599.000000</td>\n",
              "    </tr>\n",
              "    <tr>\n",
              "      <th>mean</th>\n",
              "      <td>8.319637</td>\n",
              "      <td>0.527821</td>\n",
              "      <td>0.270976</td>\n",
              "      <td>2.538806</td>\n",
              "      <td>0.087467</td>\n",
              "      <td>15.874922</td>\n",
              "      <td>46.467792</td>\n",
              "      <td>0.996747</td>\n",
              "      <td>3.311113</td>\n",
              "      <td>0.658149</td>\n",
              "      <td>10.422983</td>\n",
              "      <td>5.636023</td>\n",
              "    </tr>\n",
              "    <tr>\n",
              "      <th>std</th>\n",
              "      <td>1.741096</td>\n",
              "      <td>0.179060</td>\n",
              "      <td>0.194801</td>\n",
              "      <td>1.409928</td>\n",
              "      <td>0.047065</td>\n",
              "      <td>10.460157</td>\n",
              "      <td>32.895324</td>\n",
              "      <td>0.001887</td>\n",
              "      <td>0.154386</td>\n",
              "      <td>0.169507</td>\n",
              "      <td>1.065668</td>\n",
              "      <td>0.807569</td>\n",
              "    </tr>\n",
              "    <tr>\n",
              "      <th>min</th>\n",
              "      <td>4.600000</td>\n",
              "      <td>0.120000</td>\n",
              "      <td>0.000000</td>\n",
              "      <td>0.900000</td>\n",
              "      <td>0.012000</td>\n",
              "      <td>1.000000</td>\n",
              "      <td>6.000000</td>\n",
              "      <td>0.990070</td>\n",
              "      <td>2.740000</td>\n",
              "      <td>0.330000</td>\n",
              "      <td>8.400000</td>\n",
              "      <td>3.000000</td>\n",
              "    </tr>\n",
              "    <tr>\n",
              "      <th>25%</th>\n",
              "      <td>7.100000</td>\n",
              "      <td>0.390000</td>\n",
              "      <td>0.090000</td>\n",
              "      <td>1.900000</td>\n",
              "      <td>0.070000</td>\n",
              "      <td>7.000000</td>\n",
              "      <td>22.000000</td>\n",
              "      <td>0.995600</td>\n",
              "      <td>3.210000</td>\n",
              "      <td>0.550000</td>\n",
              "      <td>9.500000</td>\n",
              "      <td>5.000000</td>\n",
              "    </tr>\n",
              "    <tr>\n",
              "      <th>50%</th>\n",
              "      <td>7.900000</td>\n",
              "      <td>0.520000</td>\n",
              "      <td>0.260000</td>\n",
              "      <td>2.200000</td>\n",
              "      <td>0.079000</td>\n",
              "      <td>14.000000</td>\n",
              "      <td>38.000000</td>\n",
              "      <td>0.996750</td>\n",
              "      <td>3.310000</td>\n",
              "      <td>0.620000</td>\n",
              "      <td>10.200000</td>\n",
              "      <td>6.000000</td>\n",
              "    </tr>\n",
              "    <tr>\n",
              "      <th>75%</th>\n",
              "      <td>9.200000</td>\n",
              "      <td>0.640000</td>\n",
              "      <td>0.420000</td>\n",
              "      <td>2.600000</td>\n",
              "      <td>0.090000</td>\n",
              "      <td>21.000000</td>\n",
              "      <td>62.000000</td>\n",
              "      <td>0.997835</td>\n",
              "      <td>3.400000</td>\n",
              "      <td>0.730000</td>\n",
              "      <td>11.100000</td>\n",
              "      <td>6.000000</td>\n",
              "    </tr>\n",
              "    <tr>\n",
              "      <th>max</th>\n",
              "      <td>15.900000</td>\n",
              "      <td>1.580000</td>\n",
              "      <td>1.000000</td>\n",
              "      <td>15.500000</td>\n",
              "      <td>0.611000</td>\n",
              "      <td>72.000000</td>\n",
              "      <td>289.000000</td>\n",
              "      <td>1.003690</td>\n",
              "      <td>4.010000</td>\n",
              "      <td>2.000000</td>\n",
              "      <td>14.900000</td>\n",
              "      <td>8.000000</td>\n",
              "    </tr>\n",
              "  </tbody>\n",
              "</table>\n",
              "</div>"
            ],
            "text/plain": [
              "       fixed_acidity  volatile_acidity  citric_acid  residual_sugar  \\\n",
              "count    1599.000000       1599.000000  1599.000000     1599.000000   \n",
              "mean        8.319637          0.527821     0.270976        2.538806   \n",
              "std         1.741096          0.179060     0.194801        1.409928   \n",
              "min         4.600000          0.120000     0.000000        0.900000   \n",
              "25%         7.100000          0.390000     0.090000        1.900000   \n",
              "50%         7.900000          0.520000     0.260000        2.200000   \n",
              "75%         9.200000          0.640000     0.420000        2.600000   \n",
              "max        15.900000          1.580000     1.000000       15.500000   \n",
              "\n",
              "         chlorides  free_sulfur_dioxide  total_sulfur_dioxide      density  \\\n",
              "count  1599.000000          1599.000000           1599.000000  1599.000000   \n",
              "mean      0.087467            15.874922             46.467792     0.996747   \n",
              "std       0.047065            10.460157             32.895324     0.001887   \n",
              "min       0.012000             1.000000              6.000000     0.990070   \n",
              "25%       0.070000             7.000000             22.000000     0.995600   \n",
              "50%       0.079000            14.000000             38.000000     0.996750   \n",
              "75%       0.090000            21.000000             62.000000     0.997835   \n",
              "max       0.611000            72.000000            289.000000     1.003690   \n",
              "\n",
              "                pH    sulphates      alcohol      quality  \n",
              "count  1599.000000  1599.000000  1599.000000  1599.000000  \n",
              "mean      3.311113     0.658149    10.422983     5.636023  \n",
              "std       0.154386     0.169507     1.065668     0.807569  \n",
              "min       2.740000     0.330000     8.400000     3.000000  \n",
              "25%       3.210000     0.550000     9.500000     5.000000  \n",
              "50%       3.310000     0.620000    10.200000     6.000000  \n",
              "75%       3.400000     0.730000    11.100000     6.000000  \n",
              "max       4.010000     2.000000    14.900000     8.000000  "
            ]
          },
          "execution_count": 17,
          "metadata": {},
          "output_type": "execute_result"
        }
      ],
      "source": [
        "winedata.describe()"
      ]
    },
    {
      "cell_type": "code",
      "execution_count": null,
      "id": "db54fa1c-a4d6-4e21-8512-ce06fd5278dc",
      "metadata": {
        "id": "db54fa1c-a4d6-4e21-8512-ce06fd5278dc",
        "outputId": "1c79a144-536b-4f4e-db79-d07c3f289e62"
      },
      "outputs": [
        {
          "data": {
            "text/plain": [
              "240"
            ]
          },
          "execution_count": 18,
          "metadata": {},
          "output_type": "execute_result"
        }
      ],
      "source": [
        "#checking duplicates\n",
        "duplicate_rows = winedata.duplicated()\n",
        "duplicate_rows.sum()"
      ]
    },
    {
      "cell_type": "code",
      "execution_count": null,
      "id": "bbe113f9-f96a-4cab-b7e1-55be379ed6af",
      "metadata": {
        "id": "bbe113f9-f96a-4cab-b7e1-55be379ed6af"
      },
      "outputs": [],
      "source": [
        "#Removing duplicate values\n",
        "winedata.drop_duplicates(inplace=True)"
      ]
    },
    {
      "cell_type": "code",
      "execution_count": null,
      "id": "c7198d0e-731a-407e-b8da-354799f8da4d",
      "metadata": {
        "id": "c7198d0e-731a-407e-b8da-354799f8da4d",
        "outputId": "aad35be5-0315-4ebd-a913-db6e2c41f7b4"
      },
      "outputs": [
        {
          "data": {
            "text/html": [
              "<div>\n",
              "<style scoped>\n",
              "    .dataframe tbody tr th:only-of-type {\n",
              "        vertical-align: middle;\n",
              "    }\n",
              "\n",
              "    .dataframe tbody tr th {\n",
              "        vertical-align: top;\n",
              "    }\n",
              "\n",
              "    .dataframe thead th {\n",
              "        text-align: right;\n",
              "    }\n",
              "</style>\n",
              "<table border=\"1\" class=\"dataframe\">\n",
              "  <thead>\n",
              "    <tr style=\"text-align: right;\">\n",
              "      <th></th>\n",
              "      <th>fixed_acidity</th>\n",
              "      <th>volatile_acidity</th>\n",
              "      <th>citric_acid</th>\n",
              "      <th>residual_sugar</th>\n",
              "      <th>chlorides</th>\n",
              "      <th>free_sulfur_dioxide</th>\n",
              "      <th>total_sulfur_dioxide</th>\n",
              "      <th>density</th>\n",
              "      <th>pH</th>\n",
              "      <th>sulphates</th>\n",
              "      <th>alcohol</th>\n",
              "      <th>quality</th>\n",
              "    </tr>\n",
              "  </thead>\n",
              "  <tbody>\n",
              "    <tr>\n",
              "      <th>0</th>\n",
              "      <td>7.4</td>\n",
              "      <td>0.700</td>\n",
              "      <td>0.00</td>\n",
              "      <td>1.9</td>\n",
              "      <td>0.076</td>\n",
              "      <td>11.0</td>\n",
              "      <td>34.0</td>\n",
              "      <td>0.99780</td>\n",
              "      <td>3.51</td>\n",
              "      <td>0.56</td>\n",
              "      <td>9.4</td>\n",
              "      <td>5</td>\n",
              "    </tr>\n",
              "    <tr>\n",
              "      <th>1</th>\n",
              "      <td>7.8</td>\n",
              "      <td>0.880</td>\n",
              "      <td>0.00</td>\n",
              "      <td>2.6</td>\n",
              "      <td>0.098</td>\n",
              "      <td>25.0</td>\n",
              "      <td>67.0</td>\n",
              "      <td>0.99680</td>\n",
              "      <td>3.20</td>\n",
              "      <td>0.68</td>\n",
              "      <td>9.8</td>\n",
              "      <td>5</td>\n",
              "    </tr>\n",
              "    <tr>\n",
              "      <th>2</th>\n",
              "      <td>7.8</td>\n",
              "      <td>0.760</td>\n",
              "      <td>0.04</td>\n",
              "      <td>2.3</td>\n",
              "      <td>0.092</td>\n",
              "      <td>15.0</td>\n",
              "      <td>54.0</td>\n",
              "      <td>0.99700</td>\n",
              "      <td>3.26</td>\n",
              "      <td>0.65</td>\n",
              "      <td>9.8</td>\n",
              "      <td>5</td>\n",
              "    </tr>\n",
              "    <tr>\n",
              "      <th>3</th>\n",
              "      <td>11.2</td>\n",
              "      <td>0.280</td>\n",
              "      <td>0.56</td>\n",
              "      <td>1.9</td>\n",
              "      <td>0.075</td>\n",
              "      <td>17.0</td>\n",
              "      <td>60.0</td>\n",
              "      <td>0.99800</td>\n",
              "      <td>3.16</td>\n",
              "      <td>0.58</td>\n",
              "      <td>9.8</td>\n",
              "      <td>6</td>\n",
              "    </tr>\n",
              "    <tr>\n",
              "      <th>5</th>\n",
              "      <td>7.4</td>\n",
              "      <td>0.660</td>\n",
              "      <td>0.00</td>\n",
              "      <td>1.8</td>\n",
              "      <td>0.075</td>\n",
              "      <td>13.0</td>\n",
              "      <td>40.0</td>\n",
              "      <td>0.99780</td>\n",
              "      <td>3.51</td>\n",
              "      <td>0.56</td>\n",
              "      <td>9.4</td>\n",
              "      <td>5</td>\n",
              "    </tr>\n",
              "    <tr>\n",
              "      <th>...</th>\n",
              "      <td>...</td>\n",
              "      <td>...</td>\n",
              "      <td>...</td>\n",
              "      <td>...</td>\n",
              "      <td>...</td>\n",
              "      <td>...</td>\n",
              "      <td>...</td>\n",
              "      <td>...</td>\n",
              "      <td>...</td>\n",
              "      <td>...</td>\n",
              "      <td>...</td>\n",
              "      <td>...</td>\n",
              "    </tr>\n",
              "    <tr>\n",
              "      <th>1593</th>\n",
              "      <td>6.8</td>\n",
              "      <td>0.620</td>\n",
              "      <td>0.08</td>\n",
              "      <td>1.9</td>\n",
              "      <td>0.068</td>\n",
              "      <td>28.0</td>\n",
              "      <td>38.0</td>\n",
              "      <td>0.99651</td>\n",
              "      <td>3.42</td>\n",
              "      <td>0.82</td>\n",
              "      <td>9.5</td>\n",
              "      <td>6</td>\n",
              "    </tr>\n",
              "    <tr>\n",
              "      <th>1594</th>\n",
              "      <td>6.2</td>\n",
              "      <td>0.600</td>\n",
              "      <td>0.08</td>\n",
              "      <td>2.0</td>\n",
              "      <td>0.090</td>\n",
              "      <td>32.0</td>\n",
              "      <td>44.0</td>\n",
              "      <td>0.99490</td>\n",
              "      <td>3.45</td>\n",
              "      <td>0.58</td>\n",
              "      <td>10.5</td>\n",
              "      <td>5</td>\n",
              "    </tr>\n",
              "    <tr>\n",
              "      <th>1595</th>\n",
              "      <td>5.9</td>\n",
              "      <td>0.550</td>\n",
              "      <td>0.10</td>\n",
              "      <td>2.2</td>\n",
              "      <td>0.062</td>\n",
              "      <td>39.0</td>\n",
              "      <td>51.0</td>\n",
              "      <td>0.99512</td>\n",
              "      <td>3.52</td>\n",
              "      <td>0.76</td>\n",
              "      <td>11.2</td>\n",
              "      <td>6</td>\n",
              "    </tr>\n",
              "    <tr>\n",
              "      <th>1597</th>\n",
              "      <td>5.9</td>\n",
              "      <td>0.645</td>\n",
              "      <td>0.12</td>\n",
              "      <td>2.0</td>\n",
              "      <td>0.075</td>\n",
              "      <td>32.0</td>\n",
              "      <td>44.0</td>\n",
              "      <td>0.99547</td>\n",
              "      <td>3.57</td>\n",
              "      <td>0.71</td>\n",
              "      <td>10.2</td>\n",
              "      <td>5</td>\n",
              "    </tr>\n",
              "    <tr>\n",
              "      <th>1598</th>\n",
              "      <td>6.0</td>\n",
              "      <td>0.310</td>\n",
              "      <td>0.47</td>\n",
              "      <td>3.6</td>\n",
              "      <td>0.067</td>\n",
              "      <td>18.0</td>\n",
              "      <td>42.0</td>\n",
              "      <td>0.99549</td>\n",
              "      <td>3.39</td>\n",
              "      <td>0.66</td>\n",
              "      <td>11.0</td>\n",
              "      <td>6</td>\n",
              "    </tr>\n",
              "  </tbody>\n",
              "</table>\n",
              "<p>1359 rows × 12 columns</p>\n",
              "</div>"
            ],
            "text/plain": [
              "      fixed_acidity  volatile_acidity  citric_acid  residual_sugar  chlorides  \\\n",
              "0               7.4             0.700         0.00             1.9      0.076   \n",
              "1               7.8             0.880         0.00             2.6      0.098   \n",
              "2               7.8             0.760         0.04             2.3      0.092   \n",
              "3              11.2             0.280         0.56             1.9      0.075   \n",
              "5               7.4             0.660         0.00             1.8      0.075   \n",
              "...             ...               ...          ...             ...        ...   \n",
              "1593            6.8             0.620         0.08             1.9      0.068   \n",
              "1594            6.2             0.600         0.08             2.0      0.090   \n",
              "1595            5.9             0.550         0.10             2.2      0.062   \n",
              "1597            5.9             0.645         0.12             2.0      0.075   \n",
              "1598            6.0             0.310         0.47             3.6      0.067   \n",
              "\n",
              "      free_sulfur_dioxide  total_sulfur_dioxide  density    pH  sulphates  \\\n",
              "0                    11.0                  34.0  0.99780  3.51       0.56   \n",
              "1                    25.0                  67.0  0.99680  3.20       0.68   \n",
              "2                    15.0                  54.0  0.99700  3.26       0.65   \n",
              "3                    17.0                  60.0  0.99800  3.16       0.58   \n",
              "5                    13.0                  40.0  0.99780  3.51       0.56   \n",
              "...                   ...                   ...      ...   ...        ...   \n",
              "1593                 28.0                  38.0  0.99651  3.42       0.82   \n",
              "1594                 32.0                  44.0  0.99490  3.45       0.58   \n",
              "1595                 39.0                  51.0  0.99512  3.52       0.76   \n",
              "1597                 32.0                  44.0  0.99547  3.57       0.71   \n",
              "1598                 18.0                  42.0  0.99549  3.39       0.66   \n",
              "\n",
              "      alcohol  quality  \n",
              "0         9.4        5  \n",
              "1         9.8        5  \n",
              "2         9.8        5  \n",
              "3         9.8        6  \n",
              "5         9.4        5  \n",
              "...       ...      ...  \n",
              "1593      9.5        6  \n",
              "1594     10.5        5  \n",
              "1595     11.2        6  \n",
              "1597     10.2        5  \n",
              "1598     11.0        6  \n",
              "\n",
              "[1359 rows x 12 columns]"
            ]
          },
          "execution_count": 20,
          "metadata": {},
          "output_type": "execute_result"
        }
      ],
      "source": [
        "winedata"
      ]
    },
    {
      "cell_type": "code",
      "execution_count": null,
      "id": "1134134f-1c34-4e4d-9e6d-2e34471aed76",
      "metadata": {
        "id": "1134134f-1c34-4e4d-9e6d-2e34471aed76",
        "outputId": "b404903e-77e0-4e65-9640-865cad325549"
      },
      "outputs": [
        {
          "data": {
            "text/plain": [
              "0"
            ]
          },
          "execution_count": 21,
          "metadata": {},
          "output_type": "execute_result"
        }
      ],
      "source": [
        "#Checking for the duplicates\n",
        "winedata.duplicated().sum()"
      ]
    },
    {
      "cell_type": "code",
      "execution_count": null,
      "id": "afaac50b-0167-4fde-80a2-1bc42d0a744b",
      "metadata": {
        "id": "afaac50b-0167-4fde-80a2-1bc42d0a744b",
        "outputId": "01137f74-4186-48b9-fb70-a2a4b854337d"
      },
      "outputs": [
        {
          "data": {
            "text/plain": [
              "fixed_acidity            96\n",
              "volatile_acidity        143\n",
              "citric_acid              80\n",
              "residual_sugar           91\n",
              "chlorides               153\n",
              "free_sulfur_dioxide      60\n",
              "total_sulfur_dioxide    144\n",
              "density                 436\n",
              "pH                       89\n",
              "sulphates                96\n",
              "alcohol                  65\n",
              "quality                   6\n",
              "dtype: int64"
            ]
          },
          "execution_count": 22,
          "metadata": {},
          "output_type": "execute_result"
        }
      ],
      "source": [
        "#Unique value analysis\n",
        "winedata.nunique()"
      ]
    },
    {
      "cell_type": "code",
      "execution_count": null,
      "id": "1449e696-3ae5-45ff-b2bb-4a6e1375fc2c",
      "metadata": {
        "id": "1449e696-3ae5-45ff-b2bb-4a6e1375fc2c",
        "outputId": "c213ffb0-75ec-4216-c2af-4ea1912035e0"
      },
      "outputs": [
        {
          "data": {
            "text/plain": [
              "quality\n",
              "5    577\n",
              "6    535\n",
              "7    167\n",
              "4     53\n",
              "8     17\n",
              "3     10\n",
              "Name: count, dtype: int64"
            ]
          },
          "execution_count": 23,
          "metadata": {},
          "output_type": "execute_result"
        }
      ],
      "source": [
        "winedata['quality'].value_counts()"
      ]
    },
    {
      "cell_type": "code",
      "execution_count": null,
      "id": "923a10b1-42a0-4bcf-9f54-dd77cb33e7e8",
      "metadata": {
        "id": "923a10b1-42a0-4bcf-9f54-dd77cb33e7e8",
        "outputId": "44371f37-b328-471d-b20b-622beece63d3"
      },
      "outputs": [
        {
          "data": {
            "text/plain": [
              "quality\n",
              "5    0.424577\n",
              "6    0.393672\n",
              "7    0.122884\n",
              "4    0.038999\n",
              "8    0.012509\n",
              "3    0.007358\n",
              "Name: proportion, dtype: float64"
            ]
          },
          "execution_count": 46,
          "metadata": {},
          "output_type": "execute_result"
        }
      ],
      "source": [
        "winedata['quality'].value_counts(dropna=False, normalize=True)\n",
        "\n",
        "#There are 6 different qualities of wine(3 to 8)"
      ]
    },
    {
      "cell_type": "code",
      "execution_count": null,
      "id": "17e8f353-7f18-4801-86f3-0ee754eee36d",
      "metadata": {
        "id": "17e8f353-7f18-4801-86f3-0ee754eee36d",
        "outputId": "84420b0e-0f5a-44d9-b035-aa70c06c387b"
      },
      "outputs": [
        {
          "data": {
            "image/png": "[encoded data removed]",
            "text/plain": [
              "<Figure size 640x480 with 1 Axes>"
            ]
          },
          "metadata": {},
          "output_type": "display_data"
        }
      ],
      "source": [
        "#ploting the quality col percentage in the pie chart\n",
        "plt.pie(winedata['quality'].value_counts(dropna=False),\n",
        "        labels=df['quality'].value_counts(dropna=False).index,\n",
        "       autopct='%0.2f%%')\n",
        "plt.title(\"Quality Categories\")\n",
        "plt.show()"
      ]
    },
    {
      "cell_type": "code",
      "execution_count": null,
      "id": "0e4414d9-79b9-40fd-a6ab-0eddd842d045",
      "metadata": {
        "id": "0e4414d9-79b9-40fd-a6ab-0eddd842d045",
        "outputId": "ca735cea-60e6-4092-e4eb-3a875bb3fa32"
      },
      "outputs": [
        {
          "data": {
            "text/html": [
              "<div>\n",
              "<style scoped>\n",
              "    .dataframe tbody tr th:only-of-type {\n",
              "        vertical-align: middle;\n",
              "    }\n",
              "\n",
              "    .dataframe tbody tr th {\n",
              "        vertical-align: top;\n",
              "    }\n",
              "\n",
              "    .dataframe thead th {\n",
              "        text-align: right;\n",
              "    }\n",
              "</style>\n",
              "<table border=\"1\" class=\"dataframe\">\n",
              "  <thead>\n",
              "    <tr style=\"text-align: right;\">\n",
              "      <th></th>\n",
              "      <th>fixed_acidity</th>\n",
              "      <th>volatile_acidity</th>\n",
              "      <th>citric_acid</th>\n",
              "      <th>residual_sugar</th>\n",
              "      <th>chlorides</th>\n",
              "      <th>free_sulfur_dioxide</th>\n",
              "      <th>total_sulfur_dioxide</th>\n",
              "      <th>density</th>\n",
              "      <th>pH</th>\n",
              "      <th>sulphates</th>\n",
              "      <th>alcohol</th>\n",
              "      <th>quality</th>\n",
              "    </tr>\n",
              "  </thead>\n",
              "  <tbody>\n",
              "    <tr>\n",
              "      <th>fixed_acidity</th>\n",
              "      <td>1.000000</td>\n",
              "      <td>-0.255124</td>\n",
              "      <td>0.667437</td>\n",
              "      <td>0.111025</td>\n",
              "      <td>0.085886</td>\n",
              "      <td>-0.140580</td>\n",
              "      <td>-0.103777</td>\n",
              "      <td>0.670195</td>\n",
              "      <td>-0.686685</td>\n",
              "      <td>0.190269</td>\n",
              "      <td>-0.061596</td>\n",
              "      <td>0.119024</td>\n",
              "    </tr>\n",
              "    <tr>\n",
              "      <th>volatile_acidity</th>\n",
              "      <td>-0.255124</td>\n",
              "      <td>1.000000</td>\n",
              "      <td>-0.551248</td>\n",
              "      <td>-0.002449</td>\n",
              "      <td>0.055154</td>\n",
              "      <td>-0.020945</td>\n",
              "      <td>0.071701</td>\n",
              "      <td>0.023943</td>\n",
              "      <td>0.247111</td>\n",
              "      <td>-0.256948</td>\n",
              "      <td>-0.197812</td>\n",
              "      <td>-0.395214</td>\n",
              "    </tr>\n",
              "    <tr>\n",
              "      <th>citric_acid</th>\n",
              "      <td>0.667437</td>\n",
              "      <td>-0.551248</td>\n",
              "      <td>1.000000</td>\n",
              "      <td>0.143892</td>\n",
              "      <td>0.210195</td>\n",
              "      <td>-0.048004</td>\n",
              "      <td>0.047358</td>\n",
              "      <td>0.357962</td>\n",
              "      <td>-0.550310</td>\n",
              "      <td>0.326062</td>\n",
              "      <td>0.105108</td>\n",
              "      <td>0.228057</td>\n",
              "    </tr>\n",
              "    <tr>\n",
              "      <th>residual_sugar</th>\n",
              "      <td>0.111025</td>\n",
              "      <td>-0.002449</td>\n",
              "      <td>0.143892</td>\n",
              "      <td>1.000000</td>\n",
              "      <td>0.026656</td>\n",
              "      <td>0.160527</td>\n",
              "      <td>0.201038</td>\n",
              "      <td>0.324522</td>\n",
              "      <td>-0.083143</td>\n",
              "      <td>-0.011837</td>\n",
              "      <td>0.063281</td>\n",
              "      <td>0.013640</td>\n",
              "    </tr>\n",
              "    <tr>\n",
              "      <th>chlorides</th>\n",
              "      <td>0.085886</td>\n",
              "      <td>0.055154</td>\n",
              "      <td>0.210195</td>\n",
              "      <td>0.026656</td>\n",
              "      <td>1.000000</td>\n",
              "      <td>0.000749</td>\n",
              "      <td>0.045773</td>\n",
              "      <td>0.193592</td>\n",
              "      <td>-0.270893</td>\n",
              "      <td>0.394557</td>\n",
              "      <td>-0.223824</td>\n",
              "      <td>-0.130988</td>\n",
              "    </tr>\n",
              "    <tr>\n",
              "      <th>free_sulfur_dioxide</th>\n",
              "      <td>-0.140580</td>\n",
              "      <td>-0.020945</td>\n",
              "      <td>-0.048004</td>\n",
              "      <td>0.160527</td>\n",
              "      <td>0.000749</td>\n",
              "      <td>1.000000</td>\n",
              "      <td>0.667246</td>\n",
              "      <td>-0.018071</td>\n",
              "      <td>0.056631</td>\n",
              "      <td>0.054126</td>\n",
              "      <td>-0.080125</td>\n",
              "      <td>-0.050463</td>\n",
              "    </tr>\n",
              "    <tr>\n",
              "      <th>total_sulfur_dioxide</th>\n",
              "      <td>-0.103777</td>\n",
              "      <td>0.071701</td>\n",
              "      <td>0.047358</td>\n",
              "      <td>0.201038</td>\n",
              "      <td>0.045773</td>\n",
              "      <td>0.667246</td>\n",
              "      <td>1.000000</td>\n",
              "      <td>0.078141</td>\n",
              "      <td>-0.079257</td>\n",
              "      <td>0.035291</td>\n",
              "      <td>-0.217829</td>\n",
              "      <td>-0.177855</td>\n",
              "    </tr>\n",
              "    <tr>\n",
              "      <th>density</th>\n",
              "      <td>0.670195</td>\n",
              "      <td>0.023943</td>\n",
              "      <td>0.357962</td>\n",
              "      <td>0.324522</td>\n",
              "      <td>0.193592</td>\n",
              "      <td>-0.018071</td>\n",
              "      <td>0.078141</td>\n",
              "      <td>1.000000</td>\n",
              "      <td>-0.355617</td>\n",
              "      <td>0.146036</td>\n",
              "      <td>-0.504995</td>\n",
              "      <td>-0.184252</td>\n",
              "    </tr>\n",
              "    <tr>\n",
              "      <th>pH</th>\n",
              "      <td>-0.686685</td>\n",
              "      <td>0.247111</td>\n",
              "      <td>-0.550310</td>\n",
              "      <td>-0.083143</td>\n",
              "      <td>-0.270893</td>\n",
              "      <td>0.056631</td>\n",
              "      <td>-0.079257</td>\n",
              "      <td>-0.355617</td>\n",
              "      <td>1.000000</td>\n",
              "      <td>-0.214134</td>\n",
              "      <td>0.213418</td>\n",
              "      <td>-0.055245</td>\n",
              "    </tr>\n",
              "    <tr>\n",
              "      <th>sulphates</th>\n",
              "      <td>0.190269</td>\n",
              "      <td>-0.256948</td>\n",
              "      <td>0.326062</td>\n",
              "      <td>-0.011837</td>\n",
              "      <td>0.394557</td>\n",
              "      <td>0.054126</td>\n",
              "      <td>0.035291</td>\n",
              "      <td>0.146036</td>\n",
              "      <td>-0.214134</td>\n",
              "      <td>1.000000</td>\n",
              "      <td>0.091621</td>\n",
              "      <td>0.248835</td>\n",
              "    </tr>\n",
              "    <tr>\n",
              "      <th>alcohol</th>\n",
              "      <td>-0.061596</td>\n",
              "      <td>-0.197812</td>\n",
              "      <td>0.105108</td>\n",
              "      <td>0.063281</td>\n",
              "      <td>-0.223824</td>\n",
              "      <td>-0.080125</td>\n",
              "      <td>-0.217829</td>\n",
              "      <td>-0.504995</td>\n",
              "      <td>0.213418</td>\n",
              "      <td>0.091621</td>\n",
              "      <td>1.000000</td>\n",
              "      <td>0.480343</td>\n",
              "    </tr>\n",
              "    <tr>\n",
              "      <th>quality</th>\n",
              "      <td>0.119024</td>\n",
              "      <td>-0.395214</td>\n",
              "      <td>0.228057</td>\n",
              "      <td>0.013640</td>\n",
              "      <td>-0.130988</td>\n",
              "      <td>-0.050463</td>\n",
              "      <td>-0.177855</td>\n",
              "      <td>-0.184252</td>\n",
              "      <td>-0.055245</td>\n",
              "      <td>0.248835</td>\n",
              "      <td>0.480343</td>\n",
              "      <td>1.000000</td>\n",
              "    </tr>\n",
              "  </tbody>\n",
              "</table>\n",
              "</div>"
            ],
            "text/plain": [
              "                      fixed_acidity  volatile_acidity  citric_acid  \\\n",
              "fixed_acidity              1.000000         -0.255124     0.667437   \n",
              "volatile_acidity          -0.255124          1.000000    -0.551248   \n",
              "citric_acid                0.667437         -0.551248     1.000000   \n",
              "residual_sugar             0.111025         -0.002449     0.143892   \n",
              "chlorides                  0.085886          0.055154     0.210195   \n",
              "free_sulfur_dioxide       -0.140580         -0.020945    -0.048004   \n",
              "total_sulfur_dioxide      -0.103777          0.071701     0.047358   \n",
              "density                    0.670195          0.023943     0.357962   \n",
              "pH                        -0.686685          0.247111    -0.550310   \n",
              "sulphates                  0.190269         -0.256948     0.326062   \n",
              "alcohol                   -0.061596         -0.197812     0.105108   \n",
              "quality                    0.119024         -0.395214     0.228057   \n",
              "\n",
              "                      residual_sugar  chlorides  free_sulfur_dioxide  \\\n",
              "fixed_acidity               0.111025   0.085886            -0.140580   \n",
              "volatile_acidity           -0.002449   0.055154            -0.020945   \n",
              "citric_acid                 0.143892   0.210195            -0.048004   \n",
              "residual_sugar              1.000000   0.026656             0.160527   \n",
              "chlorides                   0.026656   1.000000             0.000749   \n",
              "free_sulfur_dioxide         0.160527   0.000749             1.000000   \n",
              "total_sulfur_dioxide        0.201038   0.045773             0.667246   \n",
              "density                     0.324522   0.193592            -0.018071   \n",
              "pH                         -0.083143  -0.270893             0.056631   \n",
              "sulphates                  -0.011837   0.394557             0.054126   \n",
              "alcohol                     0.063281  -0.223824            -0.080125   \n",
              "quality                     0.013640  -0.130988            -0.050463   \n",
              "\n",
              "                      total_sulfur_dioxide   density        pH  sulphates  \\\n",
              "fixed_acidity                    -0.103777  0.670195 -0.686685   0.190269   \n",
              "volatile_acidity                  0.071701  0.023943  0.247111  -0.256948   \n",
              "citric_acid                       0.047358  0.357962 -0.550310   0.326062   \n",
              "residual_sugar                    0.201038  0.324522 -0.083143  -0.011837   \n",
              "chlorides                         0.045773  0.193592 -0.270893   0.394557   \n",
              "free_sulfur_dioxide               0.667246 -0.018071  0.056631   0.054126   \n",
              "total_sulfur_dioxide              1.000000  0.078141 -0.079257   0.035291   \n",
              "density                           0.078141  1.000000 -0.355617   0.146036   \n",
              "pH                               -0.079257 -0.355617  1.000000  -0.214134   \n",
              "sulphates                         0.035291  0.146036 -0.214134   1.000000   \n",
              "alcohol                          -0.217829 -0.504995  0.213418   0.091621   \n",
              "quality                          -0.177855 -0.184252 -0.055245   0.248835   \n",
              "\n",
              "                       alcohol   quality  \n",
              "fixed_acidity        -0.061596  0.119024  \n",
              "volatile_acidity     -0.197812 -0.395214  \n",
              "citric_acid           0.105108  0.228057  \n",
              "residual_sugar        0.063281  0.013640  \n",
              "chlorides            -0.223824 -0.130988  \n",
              "free_sulfur_dioxide  -0.080125 -0.050463  \n",
              "total_sulfur_dioxide -0.217829 -0.177855  \n",
              "density              -0.504995 -0.184252  \n",
              "pH                    0.213418 -0.055245  \n",
              "sulphates             0.091621  0.248835  \n",
              "alcohol               1.000000  0.480343  \n",
              "quality               0.480343  1.000000  "
            ]
          },
          "execution_count": 26,
          "metadata": {},
          "output_type": "execute_result"
        }
      ],
      "source": [
        "### co-relation matrix\n",
        "corr =winedata.corr()\n",
        "corr"
      ]
    },
    {
      "cell_type": "code",
      "execution_count": null,
      "id": "fc260f87-09d2-446b-8d22-c778fd31c8dd",
      "metadata": {
        "id": "fc260f87-09d2-446b-8d22-c778fd31c8dd",
        "outputId": "adb4db5f-35bb-4a78-be9c-608beaae9b8e"
      },
      "outputs": [
        {
          "data": {
            "image/png": "[encoded data removed]",
            "text/plain": [
              "<Figure size 1000x1000 with 2 Axes>"
            ]
          },
          "metadata": {},
          "output_type": "display_data"
        }
      ],
      "source": [
        "#Heatmap Represention of datas\n",
        "plt.figure(figsize=(10, 10))\n",
        "sns.heatmap(corr, cbar= True, square = True, fmt ='.1f', annot=True, annot_kws={'size':8} ,cmap= 'Blues')\n",
        "plt.title('Correlation Matrix')\n",
        "plt.show()"
      ]
    },
    {
      "cell_type": "code",
      "execution_count": null,
      "id": "b325841f-ee40-42cb-acf0-195a682edaf2",
      "metadata": {
        "id": "b325841f-ee40-42cb-acf0-195a682edaf2",
        "outputId": "dd69e661-2ee9-4ea8-e7a3-0fc750668d2e"
      },
      "outputs": [
        {
          "data": {
            "image/png": "[encoded data removed]",
            "text/plain": [
              "<Figure size 1200x1000 with 12 Axes>"
            ]
          },
          "metadata": {},
          "output_type": "display_data"
        }
      ],
      "source": [
        "#Histogram for numeric col\n",
        "winedata.hist(figsize=(12, 10), bins =40)\n",
        "plt.suptitle('Histogram of Each Numeric Column')\n",
        "plt.show()"
      ]
    },
    {
      "cell_type": "markdown",
      "id": "6ab47852-4f9f-4449-9fd0-ec32df0c130f",
      "metadata": {
        "id": "6ab47852-4f9f-4449-9fd0-ec32df0c130f"
      },
      "source": [
        "### Outlier handling"
      ]
    },
    {
      "cell_type": "code",
      "execution_count": null,
      "id": "e7e20eff-484d-4146-a508-7f9cbf757480",
      "metadata": {
        "id": "e7e20eff-484d-4146-a508-7f9cbf757480"
      },
      "outputs": [],
      "source": [
        "def calculate_IQR (df):\n",
        "    summary_df = winedata. describe()\n",
        "    summary_df\n",
        "\n",
        "    summary_df_tranpose = summary_df.loc[[\"min\",\"25%\",\"75%\",\"max\"]].T\n",
        "    summary_df_tranpose = summary_df_tranpose.rename(columns = {\"25%\" : \"Q1\",\"75%\" : \"Q3\"})\n",
        "\n",
        "    summary_df_tranpose.insert(0,\"Columns\",summary_df_tranpose.index)\n",
        "    summary_df_tranpose = summary_df_tranpose.reset_index(drop=True)\n",
        "    summary_df_tranpose['IQR'] = summary_df_tranpose['Q3'] - summary_df_tranpose['Q1']\n",
        "    summary_df_tranpose['Min_Th'] = summary_df_tranpose['Q1'] - 1.5*summary_df_tranpose['IQR']\n",
        "    summary_df_tranpose['Max_Th'] = summary_df_tranpose['Q3'] + 1.5*summary_df_tranpose['IQR']\n",
        "    display(summary_df_tranpose)"
      ]
    },
    {
      "cell_type": "code",
      "execution_count": null,
      "id": "f87928b8-7567-49b9-ad9f-1978af7cf7a8",
      "metadata": {
        "id": "f87928b8-7567-49b9-ad9f-1978af7cf7a8",
        "outputId": "233817b1-6788-46cf-904d-7374058b3af8"
      },
      "outputs": [
        {
          "data": {
            "text/html": [
              "<div>\n",
              "<style scoped>\n",
              "    .dataframe tbody tr th:only-of-type {\n",
              "        vertical-align: middle;\n",
              "    }\n",
              "\n",
              "    .dataframe tbody tr th {\n",
              "        vertical-align: top;\n",
              "    }\n",
              "\n",
              "    .dataframe thead th {\n",
              "        text-align: right;\n",
              "    }\n",
              "</style>\n",
              "<table border=\"1\" class=\"dataframe\">\n",
              "  <thead>\n",
              "    <tr style=\"text-align: right;\">\n",
              "      <th></th>\n",
              "      <th>Columns</th>\n",
              "      <th>min</th>\n",
              "      <th>Q1</th>\n",
              "      <th>Q3</th>\n",
              "      <th>max</th>\n",
              "      <th>IQR</th>\n",
              "      <th>Min_Th</th>\n",
              "      <th>Max_Th</th>\n",
              "    </tr>\n",
              "  </thead>\n",
              "  <tbody>\n",
              "    <tr>\n",
              "      <th>0</th>\n",
              "      <td>fixed_acidity</td>\n",
              "      <td>4.60000</td>\n",
              "      <td>7.1000</td>\n",
              "      <td>9.20000</td>\n",
              "      <td>15.90000</td>\n",
              "      <td>2.10000</td>\n",
              "      <td>3.95000</td>\n",
              "      <td>12.35000</td>\n",
              "    </tr>\n",
              "    <tr>\n",
              "      <th>1</th>\n",
              "      <td>volatile_acidity</td>\n",
              "      <td>0.12000</td>\n",
              "      <td>0.3900</td>\n",
              "      <td>0.64000</td>\n",
              "      <td>1.58000</td>\n",
              "      <td>0.25000</td>\n",
              "      <td>0.01500</td>\n",
              "      <td>1.01500</td>\n",
              "    </tr>\n",
              "    <tr>\n",
              "      <th>2</th>\n",
              "      <td>citric_acid</td>\n",
              "      <td>0.00000</td>\n",
              "      <td>0.0900</td>\n",
              "      <td>0.43000</td>\n",
              "      <td>1.00000</td>\n",
              "      <td>0.34000</td>\n",
              "      <td>-0.42000</td>\n",
              "      <td>0.94000</td>\n",
              "    </tr>\n",
              "    <tr>\n",
              "      <th>3</th>\n",
              "      <td>residual_sugar</td>\n",
              "      <td>0.90000</td>\n",
              "      <td>1.9000</td>\n",
              "      <td>2.60000</td>\n",
              "      <td>15.50000</td>\n",
              "      <td>0.70000</td>\n",
              "      <td>0.85000</td>\n",
              "      <td>3.65000</td>\n",
              "    </tr>\n",
              "    <tr>\n",
              "      <th>4</th>\n",
              "      <td>chlorides</td>\n",
              "      <td>0.01200</td>\n",
              "      <td>0.0700</td>\n",
              "      <td>0.09100</td>\n",
              "      <td>0.61100</td>\n",
              "      <td>0.02100</td>\n",
              "      <td>0.03850</td>\n",
              "      <td>0.12250</td>\n",
              "    </tr>\n",
              "    <tr>\n",
              "      <th>5</th>\n",
              "      <td>free_sulfur_dioxide</td>\n",
              "      <td>1.00000</td>\n",
              "      <td>7.0000</td>\n",
              "      <td>21.00000</td>\n",
              "      <td>72.00000</td>\n",
              "      <td>14.00000</td>\n",
              "      <td>-14.00000</td>\n",
              "      <td>42.00000</td>\n",
              "    </tr>\n",
              "    <tr>\n",
              "      <th>6</th>\n",
              "      <td>total_sulfur_dioxide</td>\n",
              "      <td>6.00000</td>\n",
              "      <td>22.0000</td>\n",
              "      <td>63.00000</td>\n",
              "      <td>289.00000</td>\n",
              "      <td>41.00000</td>\n",
              "      <td>-39.50000</td>\n",
              "      <td>124.50000</td>\n",
              "    </tr>\n",
              "    <tr>\n",
              "      <th>7</th>\n",
              "      <td>density</td>\n",
              "      <td>0.99007</td>\n",
              "      <td>0.9956</td>\n",
              "      <td>0.99782</td>\n",
              "      <td>1.00369</td>\n",
              "      <td>0.00222</td>\n",
              "      <td>0.99227</td>\n",
              "      <td>1.00115</td>\n",
              "    </tr>\n",
              "    <tr>\n",
              "      <th>8</th>\n",
              "      <td>pH</td>\n",
              "      <td>2.74000</td>\n",
              "      <td>3.2100</td>\n",
              "      <td>3.40000</td>\n",
              "      <td>4.01000</td>\n",
              "      <td>0.19000</td>\n",
              "      <td>2.92500</td>\n",
              "      <td>3.68500</td>\n",
              "    </tr>\n",
              "    <tr>\n",
              "      <th>9</th>\n",
              "      <td>sulphates</td>\n",
              "      <td>0.33000</td>\n",
              "      <td>0.5500</td>\n",
              "      <td>0.73000</td>\n",
              "      <td>2.00000</td>\n",
              "      <td>0.18000</td>\n",
              "      <td>0.28000</td>\n",
              "      <td>1.00000</td>\n",
              "    </tr>\n",
              "    <tr>\n",
              "      <th>10</th>\n",
              "      <td>alcohol</td>\n",
              "      <td>8.40000</td>\n",
              "      <td>9.5000</td>\n",
              "      <td>11.10000</td>\n",
              "      <td>14.90000</td>\n",
              "      <td>1.60000</td>\n",
              "      <td>7.10000</td>\n",
              "      <td>13.50000</td>\n",
              "    </tr>\n",
              "    <tr>\n",
              "      <th>11</th>\n",
              "      <td>quality</td>\n",
              "      <td>3.00000</td>\n",
              "      <td>5.0000</td>\n",
              "      <td>6.00000</td>\n",
              "      <td>8.00000</td>\n",
              "      <td>1.00000</td>\n",
              "      <td>3.50000</td>\n",
              "      <td>7.50000</td>\n",
              "    </tr>\n",
              "  </tbody>\n",
              "</table>\n",
              "</div>"
            ],
            "text/plain": [
              "                 Columns      min       Q1        Q3        max       IQR  \\\n",
              "0          fixed_acidity  4.60000   7.1000   9.20000   15.90000   2.10000   \n",
              "1       volatile_acidity  0.12000   0.3900   0.64000    1.58000   0.25000   \n",
              "2            citric_acid  0.00000   0.0900   0.43000    1.00000   0.34000   \n",
              "3         residual_sugar  0.90000   1.9000   2.60000   15.50000   0.70000   \n",
              "4              chlorides  0.01200   0.0700   0.09100    0.61100   0.02100   \n",
              "5    free_sulfur_dioxide  1.00000   7.0000  21.00000   72.00000  14.00000   \n",
              "6   total_sulfur_dioxide  6.00000  22.0000  63.00000  289.00000  41.00000   \n",
              "7                density  0.99007   0.9956   0.99782    1.00369   0.00222   \n",
              "8                     pH  2.74000   3.2100   3.40000    4.01000   0.19000   \n",
              "9              sulphates  0.33000   0.5500   0.73000    2.00000   0.18000   \n",
              "10               alcohol  8.40000   9.5000  11.10000   14.90000   1.60000   \n",
              "11               quality  3.00000   5.0000   6.00000    8.00000   1.00000   \n",
              "\n",
              "      Min_Th     Max_Th  \n",
              "0    3.95000   12.35000  \n",
              "1    0.01500    1.01500  \n",
              "2   -0.42000    0.94000  \n",
              "3    0.85000    3.65000  \n",
              "4    0.03850    0.12250  \n",
              "5  -14.00000   42.00000  \n",
              "6  -39.50000  124.50000  \n",
              "7    0.99227    1.00115  \n",
              "8    2.92500    3.68500  \n",
              "9    0.28000    1.00000  \n",
              "10   7.10000   13.50000  \n",
              "11   3.50000    7.50000  "
            ]
          },
          "metadata": {},
          "output_type": "display_data"
        }
      ],
      "source": [
        "calculate_IQR(winedata)"
      ]
    },
    {
      "cell_type": "code",
      "execution_count": null,
      "id": "1e596a59-2f0f-4d21-8d5b-2607b309bca8",
      "metadata": {
        "id": "1e596a59-2f0f-4d21-8d5b-2607b309bca8",
        "outputId": "4d9a05bb-f1c5-42e6-de05-5c74b626bdb9"
      },
      "outputs": [
        {
          "data": {
            "text/plain": [
              "<Axes: >"
            ]
          },
          "execution_count": 62,
          "metadata": {},
          "output_type": "execute_result"
        },
        {
          "data": {
            "image/png": "[encoded data removed]",
            "text/plain": [
              "<Figure size 640x480 with 1 Axes>"
            ]
          },
          "metadata": {},
          "output_type": "display_data"
        }
      ],
      "source": [
        "sns.boxplot(winedata['fixed_acidity'])"
      ]
    },
    {
      "cell_type": "code",
      "execution_count": null,
      "id": "a9e7980d-dce2-4ac4-8feb-acaa86f2edfc",
      "metadata": {
        "id": "a9e7980d-dce2-4ac4-8feb-acaa86f2edfc",
        "outputId": "cb33de2c-0d96-4ddd-94b0-84b56bf95a28"
      },
      "outputs": [
        {
          "data": {
            "text/plain": [
              "<Axes: >"
            ]
          },
          "execution_count": 63,
          "metadata": {},
          "output_type": "execute_result"
        },
        {
          "data": {
            "image/png": "[encoded data removed]",
            "text/plain": [
              "<Figure size 640x480 with 1 Axes>"
            ]
          },
          "metadata": {},
          "output_type": "display_data"
        }
      ],
      "source": [
        "#clipping outlier for sns.boxplot(winedata['fixed_acidity'])\n",
        "winedata.fixed_acidity = winedata.fixed_acidity.clip( lower=3.95000, upper=3.95000)\n",
        "winedata.fixed_acidity\n",
        "sns.boxplot(winedata['fixed_acidity'])"
      ]
    },
    {
      "cell_type": "code",
      "execution_count": null,
      "id": "37fd6c48-8e5c-4984-94bf-951aab331e58",
      "metadata": {
        "id": "37fd6c48-8e5c-4984-94bf-951aab331e58"
      },
      "outputs": [],
      "source": [
        "#cliping outliers for density"
      ]
    },
    {
      "cell_type": "code",
      "execution_count": null,
      "id": "d5357565-792a-438b-939f-75807a715f18",
      "metadata": {
        "id": "d5357565-792a-438b-939f-75807a715f18",
        "outputId": "fbc08088-f1b1-4f4f-f061-8c02a5483729"
      },
      "outputs": [
        {
          "data": {
            "text/plain": [
              "0       0.99780\n",
              "1       0.99680\n",
              "2       0.99700\n",
              "3       0.99800\n",
              "5       0.99780\n",
              "         ...   \n",
              "1593    0.99651\n",
              "1594    0.99490\n",
              "1595    0.99512\n",
              "1597    0.99547\n",
              "1598    0.99549\n",
              "Name: density, Length: 1359, dtype: float64"
            ]
          },
          "execution_count": 64,
          "metadata": {},
          "output_type": "execute_result"
        }
      ],
      "source": [
        "winedata.density = winedata.density.clip( lower=0.992248, upper=1.001187)\n",
        "winedata.density"
      ]
    },
    {
      "cell_type": "code",
      "execution_count": null,
      "id": "05f9d07e-9cfe-4018-94f3-6e36c71fa810",
      "metadata": {
        "id": "05f9d07e-9cfe-4018-94f3-6e36c71fa810",
        "outputId": "b69c5207-b48a-4f4a-edb2-9fb58894203b"
      },
      "outputs": [
        {
          "data": {
            "text/plain": [
              "<Axes: ylabel='density'>"
            ]
          },
          "execution_count": 65,
          "metadata": {},
          "output_type": "execute_result"
        },
        {
          "data": {
            "image/png": "[encoded data removed]",
            "text/plain": [
              "<Figure size 640x480 with 1 Axes>"
            ]
          },
          "metadata": {},
          "output_type": "display_data"
        }
      ],
      "source": [
        "sns.boxplot(y=winedata.density)"
      ]
    },
    {
      "cell_type": "code",
      "execution_count": null,
      "id": "a85d1cde-f43e-4596-9b52-6f783bb6e833",
      "metadata": {
        "id": "a85d1cde-f43e-4596-9b52-6f783bb6e833",
        "outputId": "4058e4b2-b9eb-4173-d6cf-b596365bfb67"
      },
      "outputs": [
        {
          "data": {
            "text/plain": [
              "0       0.700\n",
              "1       0.880\n",
              "2       0.760\n",
              "3       0.280\n",
              "5       0.660\n",
              "        ...  \n",
              "1593    0.620\n",
              "1594    0.600\n",
              "1595    0.550\n",
              "1597    0.645\n",
              "1598    0.310\n",
              "Name: volatile_acidity, Length: 1359, dtype: float64"
            ]
          },
          "execution_count": 66,
          "metadata": {},
          "output_type": "execute_result"
        }
      ],
      "source": [
        "#clipping outlier for volatile_acidity\n",
        "winedata.volatile_acidity = winedata.volatile_acidity.clip( lower=0.01500, upper=1.01500)\n",
        "winedata.volatile_acidity"
      ]
    },
    {
      "cell_type": "code",
      "execution_count": null,
      "id": "c6ce7107-f27e-45cf-bbb1-aaf88bbebbc9",
      "metadata": {
        "id": "c6ce7107-f27e-45cf-bbb1-aaf88bbebbc9",
        "outputId": "29bfe43a-7a79-45a3-ca21-209608b428e6"
      },
      "outputs": [
        {
          "data": {
            "text/plain": [
              "<Axes: ylabel='volatile_acidity'>"
            ]
          },
          "execution_count": 67,
          "metadata": {},
          "output_type": "execute_result"
        },
        {
          "data": {
            "image/png": "[encoded data removed]",
            "text/plain": [
              "<Figure size 640x480 with 1 Axes>"
            ]
          },
          "metadata": {},
          "output_type": "display_data"
        }
      ],
      "source": [
        "sns.boxplot(y = winedata.volatile_acidity)"
      ]
    },
    {
      "cell_type": "code",
      "execution_count": null,
      "id": "4ba3ccd6-3305-4191-b985-c2140ca47e8e",
      "metadata": {
        "id": "4ba3ccd6-3305-4191-b985-c2140ca47e8e",
        "outputId": "c194a348-80a6-46bf-e154-9a3fdb30de66"
      },
      "outputs": [
        {
          "data": {
            "text/plain": [
              "0       0.00\n",
              "1       0.00\n",
              "2       0.04\n",
              "3       0.56\n",
              "5       0.00\n",
              "        ... \n",
              "1593    0.08\n",
              "1594    0.08\n",
              "1595    0.10\n",
              "1597    0.12\n",
              "1598    0.47\n",
              "Name: citric_acid, Length: 1359, dtype: float64"
            ]
          },
          "execution_count": 68,
          "metadata": {},
          "output_type": "execute_result"
        }
      ],
      "source": [
        "#clipping outliers for citric_acid\n",
        "winedata.citric_acid = winedata.citric_acid.clip( lower=-0.42000, upper=0.94000)\n",
        "winedata.citric_acid"
      ]
    },
    {
      "cell_type": "code",
      "execution_count": null,
      "id": "3ee07c0a-9680-4cd2-9fc7-842506f6ed93",
      "metadata": {
        "id": "3ee07c0a-9680-4cd2-9fc7-842506f6ed93",
        "outputId": "c945eefd-df32-4c87-f1f3-4981e6df43c4"
      },
      "outputs": [
        {
          "data": {
            "text/plain": [
              "<Axes: ylabel='citric_acid'>"
            ]
          },
          "execution_count": 69,
          "metadata": {},
          "output_type": "execute_result"
        },
        {
          "data": {
            "image/png": "[encoded data removed]",
            "text/plain": [
              "<Figure size 640x480 with 1 Axes>"
            ]
          },
          "metadata": {},
          "output_type": "display_data"
        }
      ],
      "source": [
        "sns.boxplot(y=winedata.citric_acid)"
      ]
    },
    {
      "cell_type": "code",
      "execution_count": null,
      "id": "8fcc2dd6-f9f4-4e27-bf5a-7842a9b717a4",
      "metadata": {
        "id": "8fcc2dd6-f9f4-4e27-bf5a-7842a9b717a4",
        "outputId": "743ba8e4-3929-468d-f580-85e7400f2162"
      },
      "outputs": [
        {
          "data": {
            "text/plain": [
              "0       1.9\n",
              "1       2.6\n",
              "2       2.3\n",
              "3       1.9\n",
              "5       1.8\n",
              "       ... \n",
              "1593    1.9\n",
              "1594    2.0\n",
              "1595    2.2\n",
              "1597    2.0\n",
              "1598    3.6\n",
              "Name: residual_sugar, Length: 1359, dtype: float64"
            ]
          },
          "execution_count": 70,
          "metadata": {},
          "output_type": "execute_result"
        }
      ],
      "source": [
        "#clipping outliers for residual_sugar\n",
        "winedata.residual_sugar = winedata.residual_sugar.clip( lower=0.85000, upper=3.65000)\n",
        "winedata.residual_sugar"
      ]
    },
    {
      "cell_type": "code",
      "execution_count": null,
      "id": "676c64fd-326a-4ab1-bbc8-98dc50c12639",
      "metadata": {
        "id": "676c64fd-326a-4ab1-bbc8-98dc50c12639",
        "outputId": "19df5ede-5330-4a49-8b26-26aa4ebff372"
      },
      "outputs": [
        {
          "data": {
            "text/plain": [
              "<Axes: ylabel='residual_sugar'>"
            ]
          },
          "execution_count": 71,
          "metadata": {},
          "output_type": "execute_result"
        },
        {
          "data": {
            "image/png": "[encoded data removed]",
            "text/plain": [
              "<Figure size 640x480 with 1 Axes>"
            ]
          },
          "metadata": {},
          "output_type": "display_data"
        }
      ],
      "source": [
        "sns.boxplot(y=winedata.residual_sugar)"
      ]
    },
    {
      "cell_type": "code",
      "execution_count": null,
      "id": "941e9148-84d6-48a2-8aab-fcbaf49cd3a4",
      "metadata": {
        "id": "941e9148-84d6-48a2-8aab-fcbaf49cd3a4",
        "outputId": "a151e727-816e-4b4f-b37d-2bfb39dcf9ef"
      },
      "outputs": [
        {
          "data": {
            "text/plain": [
              "0       0.076\n",
              "1       0.098\n",
              "2       0.092\n",
              "3       0.075\n",
              "5       0.075\n",
              "        ...  \n",
              "1593    0.068\n",
              "1594    0.090\n",
              "1595    0.062\n",
              "1597    0.075\n",
              "1598    0.067\n",
              "Name: chlorides, Length: 1359, dtype: float64"
            ]
          },
          "execution_count": 72,
          "metadata": {},
          "output_type": "execute_result"
        }
      ],
      "source": [
        "#clipping outliers for chlorides\n",
        "winedata.chlorides = winedata.chlorides.clip( lower=0.03850, upper=0.12250)\n",
        "winedata.chlorides"
      ]
    },
    {
      "cell_type": "code",
      "execution_count": null,
      "id": "f94836fa-5467-4a47-8eb5-c20dbd7f637e",
      "metadata": {
        "id": "f94836fa-5467-4a47-8eb5-c20dbd7f637e",
        "outputId": "4cce8a82-67b3-468c-c16a-e7c570603093"
      },
      "outputs": [
        {
          "data": {
            "text/plain": [
              "<Axes: ylabel='chlorides'>"
            ]
          },
          "execution_count": 73,
          "metadata": {},
          "output_type": "execute_result"
        },
        {
          "data": {
            "image/png": "[encoded data removed]",
            "text/plain": [
              "<Figure size 640x480 with 1 Axes>"
            ]
          },
          "metadata": {},
          "output_type": "display_data"
        }
      ],
      "source": [
        "sns.boxplot(y=winedata.chlorides)"
      ]
    },
    {
      "cell_type": "code",
      "execution_count": null,
      "id": "fff536ba-4061-40d1-864e-17e2b6863031",
      "metadata": {
        "id": "fff536ba-4061-40d1-864e-17e2b6863031",
        "outputId": "548b8dc0-1bfa-43b2-dee3-408aed204f7e"
      },
      "outputs": [
        {
          "data": {
            "text/plain": [
              "0       11.0\n",
              "1       25.0\n",
              "2       15.0\n",
              "3       17.0\n",
              "5       13.0\n",
              "        ... \n",
              "1593    28.0\n",
              "1594    32.0\n",
              "1595    39.0\n",
              "1597    32.0\n",
              "1598    18.0\n",
              "Name: free_sulfur_dioxide, Length: 1359, dtype: float64"
            ]
          },
          "execution_count": 74,
          "metadata": {},
          "output_type": "execute_result"
        }
      ],
      "source": [
        "#clipping outliers for free_sulfur_dioxide\n",
        "winedata.free_sulfur_dioxide = winedata.free_sulfur_dioxide.clip( lower=-14.00000, upper=42.00000)\n",
        "winedata.free_sulfur_dioxide"
      ]
    },
    {
      "cell_type": "code",
      "execution_count": null,
      "id": "b8c31c03-58c5-480b-86eb-5f61ad10751b",
      "metadata": {
        "id": "b8c31c03-58c5-480b-86eb-5f61ad10751b",
        "outputId": "fa5ba9c1-bbfe-4655-9897-ba2888412603"
      },
      "outputs": [
        {
          "data": {
            "text/plain": [
              "<Axes: ylabel='free_sulfur_dioxide'>"
            ]
          },
          "execution_count": 75,
          "metadata": {},
          "output_type": "execute_result"
        },
        {
          "data": {
            "image/png": "[encoded data removed]",
            "text/plain": [
              "<Figure size 640x480 with 1 Axes>"
            ]
          },
          "metadata": {},
          "output_type": "display_data"
        }
      ],
      "source": [
        "sns.boxplot(y=winedata.free_sulfur_dioxide)\n"
      ]
    },
    {
      "cell_type": "code",
      "execution_count": null,
      "id": "86892cc3-de16-4ff0-bff9-e5afde2a0023",
      "metadata": {
        "id": "86892cc3-de16-4ff0-bff9-e5afde2a0023",
        "outputId": "775a3d9a-456d-4f0e-9b9f-b2d434b34dc7"
      },
      "outputs": [
        {
          "data": {
            "text/plain": [
              "<Axes: ylabel='total_sulfur_dioxide'>"
            ]
          },
          "execution_count": 76,
          "metadata": {},
          "output_type": "execute_result"
        },
        {
          "data": {
            "image/png": "[encoded data removed]",
            "text/plain": [
              "<Figure size 640x480 with 1 Axes>"
            ]
          },
          "metadata": {},
          "output_type": "display_data"
        }
      ],
      "source": [
        "sns.boxplot(y=winedata.total_sulfur_dioxide)"
      ]
    },
    {
      "cell_type": "code",
      "execution_count": null,
      "id": "c151cc93-8e5a-472e-848f-6bec19293d9a",
      "metadata": {
        "id": "c151cc93-8e5a-472e-848f-6bec19293d9a",
        "outputId": "98bb2817-c9e7-409b-f188-98157859dee4"
      },
      "outputs": [
        {
          "data": {
            "text/plain": [
              "0       34.0\n",
              "1       67.0\n",
              "2       54.0\n",
              "3       60.0\n",
              "5       40.0\n",
              "        ... \n",
              "1593    38.0\n",
              "1594    44.0\n",
              "1595    51.0\n",
              "1597    44.0\n",
              "1598    42.0\n",
              "Name: total_sulfur_dioxide, Length: 1359, dtype: float64"
            ]
          },
          "execution_count": 77,
          "metadata": {},
          "output_type": "execute_result"
        }
      ],
      "source": [
        "#clippling outlier for total_sulfur_dioxide\n",
        "winedata.total_sulfur_dioxide = winedata.total_sulfur_dioxide.clip( lower=-39.50000\t, upper=124.50000)\n",
        "winedata.total_sulfur_dioxide"
      ]
    },
    {
      "cell_type": "code",
      "execution_count": null,
      "id": "91ad6549-6c27-460c-a5ee-c7fd2e8756ac",
      "metadata": {
        "id": "91ad6549-6c27-460c-a5ee-c7fd2e8756ac",
        "outputId": "b9668651-bfdf-46dc-f936-d1332aac7461"
      },
      "outputs": [
        {
          "data": {
            "text/plain": [
              "<Axes: ylabel='total_sulfur_dioxide'>"
            ]
          },
          "execution_count": 78,
          "metadata": {},
          "output_type": "execute_result"
        },
        {
          "data": {
            "image/png": "[encoded data removed]",
            "text/plain": [
              "<Figure size 640x480 with 1 Axes>"
            ]
          },
          "metadata": {},
          "output_type": "display_data"
        }
      ],
      "source": [
        "sns.boxplot(y=winedata.total_sulfur_dioxide)"
      ]
    },
    {
      "cell_type": "code",
      "execution_count": null,
      "id": "bf93af21-94e8-40e9-a28a-d24212abcef3",
      "metadata": {
        "id": "bf93af21-94e8-40e9-a28a-d24212abcef3",
        "outputId": "2fdd5b3f-5c85-4ddb-b043-264f3676e8af"
      },
      "outputs": [
        {
          "data": {
            "text/plain": [
              "0       3.51\n",
              "1       3.20\n",
              "2       3.26\n",
              "3       3.16\n",
              "5       3.51\n",
              "        ... \n",
              "1593    3.42\n",
              "1594    3.45\n",
              "1595    3.52\n",
              "1597    3.57\n",
              "1598    3.39\n",
              "Name: pH, Length: 1359, dtype: float64"
            ]
          },
          "execution_count": 81,
          "metadata": {},
          "output_type": "execute_result"
        }
      ],
      "source": [
        "# Clipping the oulier values for pH col\n",
        "\n",
        "winedata.pH = winedata.pH.clip( lower=2.925000, upper=3.685000)\n",
        "winedata.pH"
      ]
    },
    {
      "cell_type": "code",
      "execution_count": null,
      "id": "b9629dbb-5767-42a0-86f9-a8e61e4fa313",
      "metadata": {
        "id": "b9629dbb-5767-42a0-86f9-a8e61e4fa313",
        "outputId": "00c838f8-1ad4-4371-a480-667979c399ec"
      },
      "outputs": [
        {
          "data": {
            "text/plain": [
              "<Axes: ylabel='pH'>"
            ]
          },
          "execution_count": 82,
          "metadata": {},
          "output_type": "execute_result"
        },
        {
          "data": {
            "image/png": "[encoded data removed]",
            "text/plain": [
              "<Figure size 640x480 with 1 Axes>"
            ]
          },
          "metadata": {},
          "output_type": "display_data"
        }
      ],
      "source": [
        "sns.boxplot(y = winedata.pH)"
      ]
    },
    {
      "cell_type": "code",
      "execution_count": null,
      "id": "208f6289-1b39-4d93-b515-ef36008f13c4",
      "metadata": {
        "id": "208f6289-1b39-4d93-b515-ef36008f13c4",
        "outputId": "90243639-3d74-4fe0-a71a-be6a8848e853"
      },
      "outputs": [
        {
          "data": {
            "text/plain": [
              "<Axes: ylabel='alcohol'>"
            ]
          },
          "execution_count": 83,
          "metadata": {},
          "output_type": "execute_result"
        },
        {
          "data": {
            "image/png": "[encoded data removed]",
            "text/plain": [
              "<Figure size 640x480 with 1 Axes>"
            ]
          },
          "metadata": {},
          "output_type": "display_data"
        }
      ],
      "source": [
        "#Clipping the outlier values for Alcohol\n",
        "sns.boxplot(y= winedata.alcohol)"
      ]
    },
    {
      "cell_type": "code",
      "execution_count": null,
      "id": "179a6973-2985-41e6-ad52-c3a9b53e7f8b",
      "metadata": {
        "id": "179a6973-2985-41e6-ad52-c3a9b53e7f8b",
        "outputId": "e163ac4b-0ce6-46f8-895f-3059d83d26db"
      },
      "outputs": [
        {
          "data": {
            "text/plain": [
              "0        9.4\n",
              "1        9.8\n",
              "2        9.8\n",
              "3        9.8\n",
              "5        9.4\n",
              "        ... \n",
              "1593     9.5\n",
              "1594    10.5\n",
              "1595    11.2\n",
              "1597    10.2\n",
              "1598    11.0\n",
              "Name: alcohol, Length: 1359, dtype: float64"
            ]
          },
          "execution_count": 84,
          "metadata": {},
          "output_type": "execute_result"
        }
      ],
      "source": [
        "winedata.alcohol = winedata.alcohol.clip( lower=7.100000, upper=13.500000)\n",
        "winedata.alcohol"
      ]
    },
    {
      "cell_type": "code",
      "execution_count": null,
      "id": "0c03124d-ad5c-424e-ab03-e43ad44bb937",
      "metadata": {
        "id": "0c03124d-ad5c-424e-ab03-e43ad44bb937",
        "outputId": "2ea36a26-cb3b-42c2-b414-9211a2a6512d"
      },
      "outputs": [
        {
          "data": {
            "text/plain": [
              "<Axes: >"
            ]
          },
          "execution_count": 85,
          "metadata": {},
          "output_type": "execute_result"
        },
        {
          "data": {
            "image/png": "[encoded data removed]",
            "text/plain": [
              "<Figure size 640x480 with 1 Axes>"
            ]
          },
          "metadata": {},
          "output_type": "display_data"
        }
      ],
      "source": [
        "sns.boxplot(winedata.alcohol)"
      ]
    },
    {
      "cell_type": "code",
      "execution_count": null,
      "id": "92c678a4-dafb-46a3-a97e-569940fad67a",
      "metadata": {
        "id": "92c678a4-dafb-46a3-a97e-569940fad67a",
        "outputId": "14e1f59e-166f-40ee-a5fb-692261596df6"
      },
      "outputs": [
        {
          "data": {
            "text/plain": [
              "<Axes: ylabel='sulphates'>"
            ]
          },
          "execution_count": 87,
          "metadata": {},
          "output_type": "execute_result"
        },
        {
          "data": {
            "image/png": "[encoded data removed]",
            "text/plain": [
              "<Figure size 640x480 with 1 Axes>"
            ]
          },
          "metadata": {},
          "output_type": "display_data"
        }
      ],
      "source": [
        "#Clipping the outlier values for sulphates\n",
        "sns.boxplot(y= winedata.sulphates)"
      ]
    },
    {
      "cell_type": "code",
      "execution_count": null,
      "id": "b27cabc5-3f4b-46fa-bf3b-d944acf5f60a",
      "metadata": {
        "id": "b27cabc5-3f4b-46fa-bf3b-d944acf5f60a",
        "outputId": "700f46db-f816-4c3f-c5fc-0d34b4068ca2"
      },
      "outputs": [
        {
          "data": {
            "text/plain": [
              "0       0.56\n",
              "1       0.68\n",
              "2       0.65\n",
              "3       0.58\n",
              "5       0.56\n",
              "        ... \n",
              "1593    0.82\n",
              "1594    0.58\n",
              "1595    0.76\n",
              "1597    0.71\n",
              "1598    0.66\n",
              "Name: sulphates, Length: 1359, dtype: float64"
            ]
          },
          "execution_count": 88,
          "metadata": {},
          "output_type": "execute_result"
        }
      ],
      "source": [
        "winedata.sulphates = winedata.sulphates.clip( lower=0.280000\t, upper=1.000000)\n",
        "winedata.sulphates"
      ]
    },
    {
      "cell_type": "code",
      "execution_count": null,
      "id": "d8a276b7-710e-4754-bb5e-1e77088876e6",
      "metadata": {
        "id": "d8a276b7-710e-4754-bb5e-1e77088876e6",
        "outputId": "bb035fe3-2957-46ce-b632-35988f70d30b"
      },
      "outputs": [
        {
          "data": {
            "text/plain": [
              "<Axes: ylabel='sulphates'>"
            ]
          },
          "execution_count": 89,
          "metadata": {},
          "output_type": "execute_result"
        },
        {
          "data": {
            "image/png": "[encoded data removed]",
            "text/plain": [
              "<Figure size 640x480 with 1 Axes>"
            ]
          },
          "metadata": {},
          "output_type": "display_data"
        }
      ],
      "source": [
        "sns.boxplot(y=winedata.sulphates)"
      ]
    },
    {
      "cell_type": "code",
      "execution_count": null,
      "id": "aa091a6e-3bb1-449f-a088-6beba1fb20b2",
      "metadata": {
        "id": "aa091a6e-3bb1-449f-a088-6beba1fb20b2",
        "outputId": "a927b93b-6f37-41a7-9ef2-f3523292daa4"
      },
      "outputs": [
        {
          "data": {
            "text/plain": [
              "array([<Axes: title={'center': 'fixed_acidity'}>,\n",
              "       <Axes: title={'center': 'volatile_acidity'}>,\n",
              "       <Axes: title={'center': 'citric_acid'}>,\n",
              "       <Axes: title={'center': 'residual_sugar'}>,\n",
              "       <Axes: title={'center': 'chlorides'}>,\n",
              "       <Axes: title={'center': 'free_sulfur_dioxide'}>,\n",
              "       <Axes: title={'center': 'total_sulfur_dioxide'}>,\n",
              "       <Axes: title={'center': 'density'}>,\n",
              "       <Axes: title={'center': 'pH'}>,\n",
              "       <Axes: title={'center': 'sulphates'}>,\n",
              "       <Axes: title={'center': 'alcohol'}>,\n",
              "       <Axes: title={'center': 'quality'}>], dtype=object)"
            ]
          },
          "execution_count": 100,
          "metadata": {},
          "output_type": "execute_result"
        },
        {
          "data": {
            "image/png": "[encoded data removed]",
            "text/plain": [
              "<Figure size 1000x1000 with 12 Axes>"
            ]
          },
          "metadata": {},
          "output_type": "display_data"
        }
      ],
      "source": [
        "winedata.plot(kind = 'bar', subplots = True , figsize =(10,10))"
      ]
    },
    {
      "cell_type": "code",
      "execution_count": null,
      "id": "aaed042c-9b95-4f2f-b229-5538b3e306b7",
      "metadata": {
        "id": "aaed042c-9b95-4f2f-b229-5538b3e306b7"
      },
      "outputs": [],
      "source": [
        "#Dividing quality into 2 categories:\n",
        "winedata['goodquality']= [1 if i>=7 else 0 for i in winedata['quality']]\n"
      ]
    },
    {
      "cell_type": "code",
      "execution_count": null,
      "id": "493bb8fb-35da-4b2d-b4e4-ce1a2f307514",
      "metadata": {
        "id": "493bb8fb-35da-4b2d-b4e4-ce1a2f307514",
        "outputId": "31334c78-8578-4027-989f-7f54bc3657bc"
      },
      "outputs": [
        {
          "data": {
            "text/plain": [
              "goodquality\n",
              "0    1175\n",
              "1     184\n",
              "Name: count, dtype: int64"
            ]
          },
          "execution_count": 113,
          "metadata": {},
          "output_type": "execute_result"
        }
      ],
      "source": [
        "winedata['goodquality'].value_counts()"
      ]
    },
    {
      "cell_type": "code",
      "execution_count": null,
      "id": "5373ee27-b71f-4569-a352-5636c5801a50",
      "metadata": {
        "id": "5373ee27-b71f-4569-a352-5636c5801a50",
        "outputId": "06f616ad-f80f-4102-cca7-da6131c02184"
      },
      "outputs": [
        {
          "data": {
            "text/html": [
              "<div>\n",
              "<style scoped>\n",
              "    .dataframe tbody tr th:only-of-type {\n",
              "        vertical-align: middle;\n",
              "    }\n",
              "\n",
              "    .dataframe tbody tr th {\n",
              "        vertical-align: top;\n",
              "    }\n",
              "\n",
              "    .dataframe thead th {\n",
              "        text-align: right;\n",
              "    }\n",
              "</style>\n",
              "<table border=\"1\" class=\"dataframe\">\n",
              "  <thead>\n",
              "    <tr style=\"text-align: right;\">\n",
              "      <th></th>\n",
              "      <th>fixed_acidity</th>\n",
              "      <th>volatile_acidity</th>\n",
              "      <th>citric_acid</th>\n",
              "      <th>residual_sugar</th>\n",
              "      <th>chlorides</th>\n",
              "      <th>free_sulfur_dioxide</th>\n",
              "      <th>total_sulfur_dioxide</th>\n",
              "      <th>density</th>\n",
              "      <th>pH</th>\n",
              "      <th>sulphates</th>\n",
              "      <th>alcohol</th>\n",
              "      <th>quality</th>\n",
              "      <th>goodquality</th>\n",
              "    </tr>\n",
              "  </thead>\n",
              "  <tbody>\n",
              "    <tr>\n",
              "      <th>0</th>\n",
              "      <td>3.95</td>\n",
              "      <td>0.70</td>\n",
              "      <td>0.00</td>\n",
              "      <td>1.9</td>\n",
              "      <td>0.076</td>\n",
              "      <td>11.0</td>\n",
              "      <td>34.0</td>\n",
              "      <td>0.9978</td>\n",
              "      <td>3.51</td>\n",
              "      <td>0.56</td>\n",
              "      <td>9.4</td>\n",
              "      <td>5</td>\n",
              "      <td>0</td>\n",
              "    </tr>\n",
              "    <tr>\n",
              "      <th>1</th>\n",
              "      <td>3.95</td>\n",
              "      <td>0.88</td>\n",
              "      <td>0.00</td>\n",
              "      <td>2.6</td>\n",
              "      <td>0.098</td>\n",
              "      <td>25.0</td>\n",
              "      <td>67.0</td>\n",
              "      <td>0.9968</td>\n",
              "      <td>3.20</td>\n",
              "      <td>0.68</td>\n",
              "      <td>9.8</td>\n",
              "      <td>5</td>\n",
              "      <td>0</td>\n",
              "    </tr>\n",
              "    <tr>\n",
              "      <th>2</th>\n",
              "      <td>3.95</td>\n",
              "      <td>0.76</td>\n",
              "      <td>0.04</td>\n",
              "      <td>2.3</td>\n",
              "      <td>0.092</td>\n",
              "      <td>15.0</td>\n",
              "      <td>54.0</td>\n",
              "      <td>0.9970</td>\n",
              "      <td>3.26</td>\n",
              "      <td>0.65</td>\n",
              "      <td>9.8</td>\n",
              "      <td>5</td>\n",
              "      <td>0</td>\n",
              "    </tr>\n",
              "    <tr>\n",
              "      <th>3</th>\n",
              "      <td>3.95</td>\n",
              "      <td>0.28</td>\n",
              "      <td>0.56</td>\n",
              "      <td>1.9</td>\n",
              "      <td>0.075</td>\n",
              "      <td>17.0</td>\n",
              "      <td>60.0</td>\n",
              "      <td>0.9980</td>\n",
              "      <td>3.16</td>\n",
              "      <td>0.58</td>\n",
              "      <td>9.8</td>\n",
              "      <td>6</td>\n",
              "      <td>0</td>\n",
              "    </tr>\n",
              "    <tr>\n",
              "      <th>5</th>\n",
              "      <td>3.95</td>\n",
              "      <td>0.66</td>\n",
              "      <td>0.00</td>\n",
              "      <td>1.8</td>\n",
              "      <td>0.075</td>\n",
              "      <td>13.0</td>\n",
              "      <td>40.0</td>\n",
              "      <td>0.9978</td>\n",
              "      <td>3.51</td>\n",
              "      <td>0.56</td>\n",
              "      <td>9.4</td>\n",
              "      <td>5</td>\n",
              "      <td>0</td>\n",
              "    </tr>\n",
              "  </tbody>\n",
              "</table>\n",
              "</div>"
            ],
            "text/plain": [
              "   fixed_acidity  volatile_acidity  citric_acid  residual_sugar  chlorides  \\\n",
              "0           3.95              0.70         0.00             1.9      0.076   \n",
              "1           3.95              0.88         0.00             2.6      0.098   \n",
              "2           3.95              0.76         0.04             2.3      0.092   \n",
              "3           3.95              0.28         0.56             1.9      0.075   \n",
              "5           3.95              0.66         0.00             1.8      0.075   \n",
              "\n",
              "   free_sulfur_dioxide  total_sulfur_dioxide  density    pH  sulphates  \\\n",
              "0                 11.0                  34.0   0.9978  3.51       0.56   \n",
              "1                 25.0                  67.0   0.9968  3.20       0.68   \n",
              "2                 15.0                  54.0   0.9970  3.26       0.65   \n",
              "3                 17.0                  60.0   0.9980  3.16       0.58   \n",
              "5                 13.0                  40.0   0.9978  3.51       0.56   \n",
              "\n",
              "   alcohol  quality  goodquality  \n",
              "0      9.4        5            0  \n",
              "1      9.8        5            0  \n",
              "2      9.8        5            0  \n",
              "3      9.8        6            0  \n",
              "5      9.4        5            0  "
            ]
          },
          "execution_count": 104,
          "metadata": {},
          "output_type": "execute_result"
        }
      ],
      "source": [
        "winedata.head()"
      ]
    },
    {
      "cell_type": "code",
      "execution_count": null,
      "id": "14e21cb1-3570-4cd5-98bc-3a9a080bfbe0",
      "metadata": {
        "id": "14e21cb1-3570-4cd5-98bc-3a9a080bfbe0"
      },
      "outputs": [],
      "source": [
        "#Separating dependent and independent variable\n",
        "x=winedata.drop(['quality', 'goodquality'], axis =1)\n",
        "y =winedata['goodquality']"
      ]
    },
    {
      "cell_type": "code",
      "execution_count": null,
      "id": "8d0fa187-f2cc-4d40-ba28-08efdb6d8491",
      "metadata": {
        "id": "8d0fa187-f2cc-4d40-ba28-08efdb6d8491"
      },
      "outputs": [],
      "source": [
        "#splitting Train and Test data\n",
        "x_train,x_test,y_train,y_test = train_test_split(x,y,test_size=0.2, random_state =40)"
      ]
    },
    {
      "cell_type": "code",
      "execution_count": null,
      "id": "ff2b566e-5f6e-46a5-a610-99d32ecac6b8",
      "metadata": {
        "id": "ff2b566e-5f6e-46a5-a610-99d32ecac6b8"
      },
      "outputs": [],
      "source": [
        "\n",
        "y_train = y_train.values.ravel()\n",
        "y_test = y_test.values.ravel()"
      ]
    },
    {
      "cell_type": "code",
      "execution_count": null,
      "id": "bdf79734-6523-45b0-b301-67f744d973b7",
      "metadata": {
        "id": "bdf79734-6523-45b0-b301-67f744d973b7"
      },
      "outputs": [],
      "source": [
        "#Table to store  accuracy value\n",
        "\n",
        "model_accuracy_table = pd.DataFrame(columns= ['Models', 'Accuracy_Scores'])\n"
      ]
    },
    {
      "cell_type": "markdown",
      "id": "33f60e29-070c-403a-ba61-18e76c680d52",
      "metadata": {
        "id": "33f60e29-070c-403a-ba61-18e76c680d52"
      },
      "source": [
        "### RandomStateClassifier"
      ]
    },
    {
      "cell_type": "code",
      "execution_count": null,
      "id": "3a42c4b3-ad2c-43ee-a801-018fe49509ed",
      "metadata": {
        "id": "3a42c4b3-ad2c-43ee-a801-018fe49509ed"
      },
      "outputs": [],
      "source": [
        "\n",
        "fit_wine_rf = RandomForestClassifier()"
      ]
    },
    {
      "cell_type": "markdown",
      "id": "00105c0b-1c73-44d4-8d45-41e4babd4ac4",
      "metadata": {
        "id": "00105c0b-1c73-44d4-8d45-41e4babd4ac4"
      },
      "source": [
        "### Hyperparameter optimization using GridSearchCV"
      ]
    },
    {
      "cell_type": "code",
      "execution_count": null,
      "id": "97da99cb-fb8f-42ab-9245-9efff3493332",
      "metadata": {
        "id": "97da99cb-fb8f-42ab-9245-9efff3493332",
        "outputId": "5302369f-603b-42b4-e622-01e27aef432a"
      },
      "outputs": [
        {
          "name": "stdout",
          "output_type": "stream",
          "text": [
            "Best Parameters using grid search: \n",
            " {'bootstrap': True, 'criterion': 'gini', 'max_depth': 6, 'max_features': 'sqrt'}\n"
          ]
        }
      ],
      "source": [
        "\n",
        "np.random.seed(42)\n",
        "\n",
        "param_dist = {'max_depth': [2, 3, 4,5,6,7,8],\n",
        "              'bootstrap': [True, False],\n",
        "              'max_features': ['auto', 'sqrt', 'log2', None],\n",
        "              'criterion': ['gini', 'entropy']}\n",
        "\n",
        "cv_rf = GridSearchCV(fit_wine_rf, cv = 10,\n",
        "                     param_grid=param_dist,\n",
        "                     n_jobs = 3)\n",
        "\n",
        "cv_rf.fit(x_train, y_train)\n",
        "print('Best Parameters using grid search: \\n', cv_rf.best_params_)\n",
        "\n"
      ]
    },
    {
      "cell_type": "code",
      "execution_count": null,
      "id": "1cb6d606-912b-4a3d-80fc-49d698445d5a",
      "metadata": {
        "id": "1cb6d606-912b-4a3d-80fc-49d698445d5a",
        "outputId": "2151ad2a-3cff-4579-fe91-f4d48bcc492d"
      },
      "outputs": [
        {
          "data": {
            "text/html": [
              "<style>#sk-container-id-1 {color: black;background-color: white;}#sk-container-id-1 pre{padding: 0;}#sk-container-id-1 div.sk-toggleable {background-color: white;}#sk-container-id-1 label.sk-toggleable__label {cursor: pointer;display: block;width: 100%;margin-bottom: 0;padding: 0.3em;box-sizing: border-box;text-align: center;}#sk-container-id-1 label.sk-toggleable__label-arrow:before {content: \"▸\";float: left;margin-right: 0.25em;color: #696969;}#sk-container-id-1 label.sk-toggleable__label-arrow:hover:before {color: black;}#sk-container-id-1 div.sk-estimator:hover label.sk-toggleable__label-arrow:before {color: black;}#sk-container-id-1 div.sk-toggleable__content {max-height: 0;max-width: 0;overflow: hidden;text-align: left;background-color: #f0f8ff;}#sk-container-id-1 div.sk-toggleable__content pre {margin: 0.2em;color: black;border-radius: 0.25em;background-color: #f0f8ff;}#sk-container-id-1 input.sk-toggleable__control:checked~div.sk-toggleable__content {max-height: 200px;max-width: 100%;overflow: auto;}#sk-container-id-1 input.sk-toggleable__control:checked~label.sk-toggleable__label-arrow:before {content: \"▾\";}#sk-container-id-1 div.sk-estimator input.sk-toggleable__control:checked~label.sk-toggleable__label {background-color: #d4ebff;}#sk-container-id-1 div.sk-label input.sk-toggleable__control:checked~label.sk-toggleable__label {background-color: #d4ebff;}#sk-container-id-1 input.sk-hidden--visually {border: 0;clip: rect(1px 1px 1px 1px);clip: rect(1px, 1px, 1px, 1px);height: 1px;margin: -1px;overflow: hidden;padding: 0;position: absolute;width: 1px;}#sk-container-id-1 div.sk-estimator {font-family: monospace;background-color: #f0f8ff;border: 1px dotted black;border-radius: 0.25em;box-sizing: border-box;margin-bottom: 0.5em;}#sk-container-id-1 div.sk-estimator:hover {background-color: #d4ebff;}#sk-container-id-1 div.sk-parallel-item::after {content: \"\";width: 100%;border-bottom: 1px solid gray;flex-grow: 1;}#sk-container-id-1 div.sk-label:hover label.sk-toggleable__label {background-color: #d4ebff;}#sk-container-id-1 div.sk-serial::before {content: \"\";position: absolute;border-left: 1px solid gray;box-sizing: border-box;top: 0;bottom: 0;left: 50%;z-index: 0;}#sk-container-id-1 div.sk-serial {display: flex;flex-direction: column;align-items: center;background-color: white;padding-right: 0.2em;padding-left: 0.2em;position: relative;}#sk-container-id-1 div.sk-item {position: relative;z-index: 1;}#sk-container-id-1 div.sk-parallel {display: flex;align-items: stretch;justify-content: center;background-color: white;position: relative;}#sk-container-id-1 div.sk-item::before, #sk-container-id-1 div.sk-parallel-item::before {content: \"\";position: absolute;border-left: 1px solid gray;box-sizing: border-box;top: 0;bottom: 0;left: 50%;z-index: -1;}#sk-container-id-1 div.sk-parallel-item {display: flex;flex-direction: column;z-index: 1;position: relative;background-color: white;}#sk-container-id-1 div.sk-parallel-item:first-child::after {align-self: flex-end;width: 50%;}#sk-container-id-1 div.sk-parallel-item:last-child::after {align-self: flex-start;width: 50%;}#sk-container-id-1 div.sk-parallel-item:only-child::after {width: 0;}#sk-container-id-1 div.sk-dashed-wrapped {border: 1px dashed gray;margin: 0 0.4em 0.5em 0.4em;box-sizing: border-box;padding-bottom: 0.4em;background-color: white;}#sk-container-id-1 div.sk-label label {font-family: monospace;font-weight: bold;display: inline-block;line-height: 1.2em;}#sk-container-id-1 div.sk-label-container {text-align: center;}#sk-container-id-1 div.sk-container {/* jupyter's `normalize.less` sets `[hidden] { display: none; }` but bootstrap.min.css set `[hidden] { display: none !important; }` so we also need the `!important` here to be able to override the default hidden behavior on the sphinx rendered scikit-learn.org. See: https://github.com/scikit-learn/scikit-learn/issues/21755 */display: inline-block !important;position: relative;}#sk-container-id-1 div.sk-text-repr-fallback {display: none;}</style><div id=\"sk-container-id-1\" class=\"sk-top-container\"><div class=\"sk-text-repr-fallback\"><pre>RandomForestClassifier(max_depth=5)</pre><b>In a Jupyter environment, please rerun this cell to show the HTML representation or trust the notebook. <br />On GitHub, the HTML representation is unable to render, please try loading this page with nbviewer.org.</b></div><div class=\"sk-container\" hidden><div class=\"sk-item\"><div class=\"sk-estimator sk-toggleable\"><input class=\"sk-toggleable__control sk-hidden--visually\" id=\"sk-estimator-id-1\" type=\"checkbox\" checked><label for=\"sk-estimator-id-1\" class=\"sk-toggleable__label sk-toggleable__label-arrow\">RandomForestClassifier</label><div class=\"sk-toggleable__content\"><pre>RandomForestClassifier(max_depth=5)</pre></div></div></div></div></div>"
            ],
            "text/plain": [
              "RandomForestClassifier(max_depth=5)"
            ]
          },
          "execution_count": 29,
          "metadata": {},
          "output_type": "execute_result"
        }
      ],
      "source": [
        "# Setting best parameters given by grid search\n",
        "fit_wine_rf.set_params(criterion = 'gini',\n",
        "                  max_depth = 5)"
      ]
    },
    {
      "cell_type": "code",
      "execution_count": null,
      "id": "111dc5fd-8141-4490-a9d8-50d5fc8ec844",
      "metadata": {
        "scrolled": true,
        "id": "111dc5fd-8141-4490-a9d8-50d5fc8ec844",
        "outputId": "c7553e03-9f53-45d5-e24e-3606f3c84662"
      },
      "outputs": [
        {
          "name": "stdout",
          "output_type": "stream",
          "text": [
            "(1359,) (1087,) (272,)\n"
          ]
        }
      ],
      "source": [
        "print(y.shape, y_train.shape, y_test.shape)"
      ]
    },
    {
      "cell_type": "code",
      "execution_count": null,
      "id": "2fe568a9-59c7-4da8-b7b6-77b187dc8d1f",
      "metadata": {
        "id": "2fe568a9-59c7-4da8-b7b6-77b187dc8d1f",
        "outputId": "6f5ac64d-50e9-4625-b37b-e4c7631756e6"
      },
      "outputs": [
        {
          "data": {
            "text/html": [
              "<style>#sk-container-id-2 {color: black;background-color: white;}#sk-container-id-2 pre{padding: 0;}#sk-container-id-2 div.sk-toggleable {background-color: white;}#sk-container-id-2 label.sk-toggleable__label {cursor: pointer;display: block;width: 100%;margin-bottom: 0;padding: 0.3em;box-sizing: border-box;text-align: center;}#sk-container-id-2 label.sk-toggleable__label-arrow:before {content: \"▸\";float: left;margin-right: 0.25em;color: #696969;}#sk-container-id-2 label.sk-toggleable__label-arrow:hover:before {color: black;}#sk-container-id-2 div.sk-estimator:hover label.sk-toggleable__label-arrow:before {color: black;}#sk-container-id-2 div.sk-toggleable__content {max-height: 0;max-width: 0;overflow: hidden;text-align: left;background-color: #f0f8ff;}#sk-container-id-2 div.sk-toggleable__content pre {margin: 0.2em;color: black;border-radius: 0.25em;background-color: #f0f8ff;}#sk-container-id-2 input.sk-toggleable__control:checked~div.sk-toggleable__content {max-height: 200px;max-width: 100%;overflow: auto;}#sk-container-id-2 input.sk-toggleable__control:checked~label.sk-toggleable__label-arrow:before {content: \"▾\";}#sk-container-id-2 div.sk-estimator input.sk-toggleable__control:checked~label.sk-toggleable__label {background-color: #d4ebff;}#sk-container-id-2 div.sk-label input.sk-toggleable__control:checked~label.sk-toggleable__label {background-color: #d4ebff;}#sk-container-id-2 input.sk-hidden--visually {border: 0;clip: rect(1px 1px 1px 1px);clip: rect(1px, 1px, 1px, 1px);height: 1px;margin: -1px;overflow: hidden;padding: 0;position: absolute;width: 1px;}#sk-container-id-2 div.sk-estimator {font-family: monospace;background-color: #f0f8ff;border: 1px dotted black;border-radius: 0.25em;box-sizing: border-box;margin-bottom: 0.5em;}#sk-container-id-2 div.sk-estimator:hover {background-color: #d4ebff;}#sk-container-id-2 div.sk-parallel-item::after {content: \"\";width: 100%;border-bottom: 1px solid gray;flex-grow: 1;}#sk-container-id-2 div.sk-label:hover label.sk-toggleable__label {background-color: #d4ebff;}#sk-container-id-2 div.sk-serial::before {content: \"\";position: absolute;border-left: 1px solid gray;box-sizing: border-box;top: 0;bottom: 0;left: 50%;z-index: 0;}#sk-container-id-2 div.sk-serial {display: flex;flex-direction: column;align-items: center;background-color: white;padding-right: 0.2em;padding-left: 0.2em;position: relative;}#sk-container-id-2 div.sk-item {position: relative;z-index: 1;}#sk-container-id-2 div.sk-parallel {display: flex;align-items: stretch;justify-content: center;background-color: white;position: relative;}#sk-container-id-2 div.sk-item::before, #sk-container-id-2 div.sk-parallel-item::before {content: \"\";position: absolute;border-left: 1px solid gray;box-sizing: border-box;top: 0;bottom: 0;left: 50%;z-index: -1;}#sk-container-id-2 div.sk-parallel-item {display: flex;flex-direction: column;z-index: 1;position: relative;background-color: white;}#sk-container-id-2 div.sk-parallel-item:first-child::after {align-self: flex-end;width: 50%;}#sk-container-id-2 div.sk-parallel-item:last-child::after {align-self: flex-start;width: 50%;}#sk-container-id-2 div.sk-parallel-item:only-child::after {width: 0;}#sk-container-id-2 div.sk-dashed-wrapped {border: 1px dashed gray;margin: 0 0.4em 0.5em 0.4em;box-sizing: border-box;padding-bottom: 0.4em;background-color: white;}#sk-container-id-2 div.sk-label label {font-family: monospace;font-weight: bold;display: inline-block;line-height: 1.2em;}#sk-container-id-2 div.sk-label-container {text-align: center;}#sk-container-id-2 div.sk-container {/* jupyter's `normalize.less` sets `[hidden] { display: none; }` but bootstrap.min.css set `[hidden] { display: none !important; }` so we also need the `!important` here to be able to override the default hidden behavior on the sphinx rendered scikit-learn.org. See: https://github.com/scikit-learn/scikit-learn/issues/21755 */display: inline-block !important;position: relative;}#sk-container-id-2 div.sk-text-repr-fallback {display: none;}</style><div id=\"sk-container-id-2\" class=\"sk-top-container\"><div class=\"sk-text-repr-fallback\"><pre>RandomForestClassifier(max_depth=5)</pre><b>In a Jupyter environment, please rerun this cell to show the HTML representation or trust the notebook. <br />On GitHub, the HTML representation is unable to render, please try loading this page with nbviewer.org.</b></div><div class=\"sk-container\" hidden><div class=\"sk-item\"><div class=\"sk-estimator sk-toggleable\"><input class=\"sk-toggleable__control sk-hidden--visually\" id=\"sk-estimator-id-2\" type=\"checkbox\" checked><label for=\"sk-estimator-id-2\" class=\"sk-toggleable__label sk-toggleable__label-arrow\">RandomForestClassifier</label><div class=\"sk-toggleable__content\"><pre>RandomForestClassifier(max_depth=5)</pre></div></div></div></div></div>"
            ],
            "text/plain": [
              "RandomForestClassifier(max_depth=5)"
            ]
          },
          "execution_count": 30,
          "metadata": {},
          "output_type": "execute_result"
        }
      ],
      "source": [
        "fit_wine_rf.fit(x_train , y_train)"
      ]
    },
    {
      "cell_type": "markdown",
      "id": "beea0ee0-42a1-462a-9a0c-b45913319246",
      "metadata": {
        "id": "beea0ee0-42a1-462a-9a0c-b45913319246"
      },
      "source": [
        "### Accuracy score:"
      ]
    },
    {
      "cell_type": "code",
      "execution_count": null,
      "id": "37dfefbb-66b6-46f4-937a-6b27449237f8",
      "metadata": {
        "id": "37dfefbb-66b6-46f4-937a-6b27449237f8"
      },
      "outputs": [],
      "source": [
        "y_test_pred = fit_wine_rf.predict(x_test)\n",
        "\n",
        "test_data_score = accuracy_score(y_test, y_test_pred)\n"
      ]
    },
    {
      "cell_type": "code",
      "execution_count": null,
      "id": "8ddc6817-0f3c-4653-af2f-04af7461a987",
      "metadata": {
        "id": "8ddc6817-0f3c-4653-af2f-04af7461a987"
      },
      "outputs": [],
      "source": [
        "train_data_score = fit_wine_rf.score(x_train,y_train)"
      ]
    },
    {
      "cell_type": "code",
      "execution_count": null,
      "id": "390caaf9-5f43-4c65-a577-d72eac3ef835",
      "metadata": {
        "id": "390caaf9-5f43-4c65-a577-d72eac3ef835",
        "outputId": "511109a5-eea2-430b-acf4-92fd3d708878"
      },
      "outputs": [
        {
          "name": "stdout",
          "output_type": "stream",
          "text": [
            "Accuracy for Train data Random Forest Classifier:  0.9319781078967944\n",
            "Accuracy for Test data Random Forest Classifier:  0.89375\n"
          ]
        }
      ],
      "source": [
        "print(\"Accuracy for Train data Random Forest Classifier: \", train_data_score)\n",
        "print(\"Accuracy for Test data Random Forest Classifier: \", test_data_score)\n"
      ]
    },
    {
      "cell_type": "code",
      "execution_count": null,
      "id": "9f53fe8b-0218-458c-ae85-fabe8279c12e",
      "metadata": {
        "id": "9f53fe8b-0218-458c-ae85-fabe8279c12e",
        "outputId": "3f4c344c-7d07-493a-a9f2-691ae3ebf1c4"
      },
      "outputs": [
        {
          "data": {
            "text/html": [
              "<div>\n",
              "<style scoped>\n",
              "    .dataframe tbody tr th:only-of-type {\n",
              "        vertical-align: middle;\n",
              "    }\n",
              "\n",
              "    .dataframe tbody tr th {\n",
              "        vertical-align: top;\n",
              "    }\n",
              "\n",
              "    .dataframe thead th {\n",
              "        text-align: right;\n",
              "    }\n",
              "</style>\n",
              "<table border=\"1\" class=\"dataframe\">\n",
              "  <thead>\n",
              "    <tr style=\"text-align: right;\">\n",
              "      <th></th>\n",
              "      <th>Models</th>\n",
              "      <th>Accuracy_Scores</th>\n",
              "    </tr>\n",
              "  </thead>\n",
              "  <tbody>\n",
              "    <tr>\n",
              "      <th>0</th>\n",
              "      <td>Random forest Classifier:</td>\n",
              "      <td>0.89375</td>\n",
              "    </tr>\n",
              "  </tbody>\n",
              "</table>\n",
              "</div>"
            ],
            "text/plain": [
              "                      Models  Accuracy_Scores\n",
              "0  Random forest Classifier:          0.89375"
            ]
          },
          "execution_count": 65,
          "metadata": {},
          "output_type": "execute_result"
        }
      ],
      "source": [
        "model_accuracy_table.loc[len(model_accuracy_table)]= ['Random forest Classifier:',test_data_score]\n",
        "model_accuracy_table"
      ]
    },
    {
      "cell_type": "code",
      "execution_count": null,
      "id": "9338719e-da3a-4fd6-b6d4-d4c35a5cae65",
      "metadata": {
        "id": "9338719e-da3a-4fd6-b6d4-d4c35a5cae65",
        "outputId": "89adde9a-6c22-4f67-e0f2-942e2d2bbfdd"
      },
      "outputs": [
        {
          "data": {
            "image/png": "[encoded data removed]",
            "text/plain": [
              "<Figure size 800x600 with 2 Axes>"
            ]
          },
          "metadata": {},
          "output_type": "display_data"
        }
      ],
      "source": [
        "# Confusion Matrix\n",
        "cm = confusion_matrix(y_test,y_test_pred)\n",
        "plt.figure(figsize=(8, 6))\n",
        "sns.heatmap(cm, annot=True, fmt='d', cmap='Blues')\n",
        "plt.xlabel('Predicted')\n",
        "plt.ylabel('Actual')\n",
        "plt.title('Confusion Matrix')\n",
        "plt.show()"
      ]
    },
    {
      "cell_type": "code",
      "execution_count": null,
      "id": "8e6efcb0-c709-4b3b-85f3-a07ac83847d3",
      "metadata": {
        "id": "8e6efcb0-c709-4b3b-85f3-a07ac83847d3",
        "outputId": "bf353363-eb76-4dda-ce4b-5ac14c1d4d38"
      },
      "outputs": [
        {
          "name": "stdout",
          "output_type": "stream",
          "text": [
            "confusion matrix: [[228   4]\n",
            " [ 29  11]]\n"
          ]
        }
      ],
      "source": [
        "print(\"confusion matrix:\" ,cm)"
      ]
    },
    {
      "cell_type": "code",
      "execution_count": null,
      "id": "84b2ccf9-4407-487b-b89b-e8333f683a4b",
      "metadata": {
        "id": "84b2ccf9-4407-487b-b89b-e8333f683a4b",
        "outputId": "b913be2e-76a3-4c6f-d355-6e9a30c87e88"
      },
      "outputs": [
        {
          "name": "stdout",
          "output_type": "stream",
          "text": [
            "Classification Report Random forest:\n",
            "              precision    recall  f1-score   support\n",
            "\n",
            "           0       0.89      0.98      0.93       232\n",
            "           1       0.73      0.28      0.40        40\n",
            "\n",
            "    accuracy                           0.88       272\n",
            "   macro avg       0.81      0.63      0.67       272\n",
            "weighted avg       0.86      0.88      0.85       272\n",
            "\n"
          ]
        }
      ],
      "source": [
        "# Classification Report\n",
        "print(\"Classification Report Random forest:\")\n",
        "print(classification_report(y_test, y_test_pred))"
      ]
    },
    {
      "cell_type": "code",
      "execution_count": null,
      "id": "9dde7e9b-ddf3-4991-891b-83aebc2a706f",
      "metadata": {
        "id": "9dde7e9b-ddf3-4991-891b-83aebc2a706f"
      },
      "outputs": [],
      "source": [
        "fpr, tpr, thresholds = roc_curve(y_test, y_test_pred)"
      ]
    },
    {
      "cell_type": "code",
      "execution_count": null,
      "id": "2b7e799f-4762-4125-b9cc-2c379e2b7776",
      "metadata": {
        "id": "2b7e799f-4762-4125-b9cc-2c379e2b7776",
        "outputId": "a0987701-7854-4870-b3f9-13cf6be6c89b"
      },
      "outputs": [
        {
          "data": {
            "image/png": "[encoded data removed]",
            "text/plain": [
              "<Figure size 800x600 with 1 Axes>"
            ]
          },
          "metadata": {},
          "output_type": "display_data"
        }
      ],
      "source": [
        "#Roc curve and AUC\n",
        "plt.figure(figsize=(8, 6))\n",
        "plt.plot(fpr, tpr, color='orange', label='ROC curve')\n",
        "plt.plot([0, 1], [0, 1], color='blue', linestyle='--')\n",
        "plt.xlabel('False Positive Rate')\n",
        "plt.ylabel('True Positive Rate')\n",
        "plt.title('Receiver Operating Characteristic (ROC) Curve Random Forest')\n",
        "plt.legend(loc=\"lower right\")\n",
        "plt.show()"
      ]
    },
    {
      "cell_type": "code",
      "execution_count": null,
      "id": "02e61eef-9934-40bb-90c2-3445cb50ca00",
      "metadata": {
        "id": "02e61eef-9934-40bb-90c2-3445cb50ca00",
        "outputId": "ac82fade-cc1f-434c-9baf-8a08c64955d4"
      },
      "outputs": [
        {
          "name": "stdout",
          "output_type": "stream",
          "text": [
            "AUC Score using Random Forest: 0.6267241379310344\n"
          ]
        }
      ],
      "source": [
        "# AUC Score\n",
        "auc_rf = roc_auc_score(y_test, y_test_pred)\n",
        "\n",
        "print(\"AUC Score using Random Forest:\", auc_rf)"
      ]
    },
    {
      "cell_type": "code",
      "execution_count": null,
      "id": "e01cf0fc-3522-4b6a-b882-c4b6357e4d8a",
      "metadata": {
        "id": "e01cf0fc-3522-4b6a-b882-c4b6357e4d8a",
        "outputId": "e958cd29-02cf-4ca3-a354-1cf4adc29054"
      },
      "outputs": [
        {
          "name": "stdout",
          "output_type": "stream",
          "text": [
            "Recall RF : 0.275\n",
            "Specificity RF: 0.978448275862069\n",
            "Precision RF: 0.6875\n",
            "F1-score RF: 0.3928571428571429\n"
          ]
        }
      ],
      "source": [
        "# Additional Classification Metrics\n",
        "tn, fp, fn, tp = confusion_matrix(y_test, y_test_pred).ravel()\n",
        "\n",
        "# Recall\n",
        "recall = tp / (tp + fn)\n",
        "print(\"Recall RF :\", recall)\n",
        "\n",
        "# Specificity\n",
        "specificity = tn / (tn + fp)\n",
        "print(\"Specificity RF:\", specificity)\n",
        "\n",
        "# Precision\n",
        "precision = tp / (tp + fp)\n",
        "print(\"Precision RF:\", precision)\n",
        "\n",
        "# F1-score\n",
        "f1_score = 2 * (precision * recall) / (precision + recall)\n",
        "print(\"F1-score RF:\", f1_score)\n"
      ]
    },
    {
      "cell_type": "markdown",
      "id": "b34f1c68-9566-4a39-96a1-1d52a3b9c002",
      "metadata": {
        "id": "b34f1c68-9566-4a39-96a1-1d52a3b9c002"
      },
      "source": [
        "### Logistic Regression"
      ]
    },
    {
      "cell_type": "code",
      "execution_count": null,
      "id": "a63cc8d1-72bb-4177-b5b7-054a6eddc46a",
      "metadata": {
        "id": "a63cc8d1-72bb-4177-b5b7-054a6eddc46a"
      },
      "outputs": [],
      "source": [
        "from sklearn.linear_model import LogisticRegression\n"
      ]
    },
    {
      "cell_type": "code",
      "execution_count": null,
      "id": "9fe6558f-7ffa-4ea6-9482-6e85d8564344",
      "metadata": {
        "id": "9fe6558f-7ffa-4ea6-9482-6e85d8564344"
      },
      "outputs": [],
      "source": [
        "#Separating dependent and independent variable\n",
        "x=winedata.drop(['quality', 'goodquality'], axis =1)\n",
        "y =winedata['goodquality']"
      ]
    },
    {
      "cell_type": "code",
      "execution_count": null,
      "id": "f0d3b845-8f67-439c-9d8e-6769ab582b97",
      "metadata": {
        "id": "f0d3b845-8f67-439c-9d8e-6769ab582b97"
      },
      "outputs": [],
      "source": [
        "#splitting Train and Test data\n",
        "x_train_log,x_test_log,y_train_log,y_test_log = train_test_split(x,y,test_size=0.25, random_state =40)"
      ]
    },
    {
      "cell_type": "code",
      "execution_count": null,
      "id": "c19596cb-6bfa-447c-ab54-3df02fb66c70",
      "metadata": {
        "id": "c19596cb-6bfa-447c-ab54-3df02fb66c70",
        "outputId": "57aa9344-fe73-4b82-b756-d5c469dddd84"
      },
      "outputs": [
        {
          "data": {
            "text/html": [
              "<style>#sk-container-id-3 {color: black;background-color: white;}#sk-container-id-3 pre{padding: 0;}#sk-container-id-3 div.sk-toggleable {background-color: white;}#sk-container-id-3 label.sk-toggleable__label {cursor: pointer;display: block;width: 100%;margin-bottom: 0;padding: 0.3em;box-sizing: border-box;text-align: center;}#sk-container-id-3 label.sk-toggleable__label-arrow:before {content: \"▸\";float: left;margin-right: 0.25em;color: #696969;}#sk-container-id-3 label.sk-toggleable__label-arrow:hover:before {color: black;}#sk-container-id-3 div.sk-estimator:hover label.sk-toggleable__label-arrow:before {color: black;}#sk-container-id-3 div.sk-toggleable__content {max-height: 0;max-width: 0;overflow: hidden;text-align: left;background-color: #f0f8ff;}#sk-container-id-3 div.sk-toggleable__content pre {margin: 0.2em;color: black;border-radius: 0.25em;background-color: #f0f8ff;}#sk-container-id-3 input.sk-toggleable__control:checked~div.sk-toggleable__content {max-height: 200px;max-width: 100%;overflow: auto;}#sk-container-id-3 input.sk-toggleable__control:checked~label.sk-toggleable__label-arrow:before {content: \"▾\";}#sk-container-id-3 div.sk-estimator input.sk-toggleable__control:checked~label.sk-toggleable__label {background-color: #d4ebff;}#sk-container-id-3 div.sk-label input.sk-toggleable__control:checked~label.sk-toggleable__label {background-color: #d4ebff;}#sk-container-id-3 input.sk-hidden--visually {border: 0;clip: rect(1px 1px 1px 1px);clip: rect(1px, 1px, 1px, 1px);height: 1px;margin: -1px;overflow: hidden;padding: 0;position: absolute;width: 1px;}#sk-container-id-3 div.sk-estimator {font-family: monospace;background-color: #f0f8ff;border: 1px dotted black;border-radius: 0.25em;box-sizing: border-box;margin-bottom: 0.5em;}#sk-container-id-3 div.sk-estimator:hover {background-color: #d4ebff;}#sk-container-id-3 div.sk-parallel-item::after {content: \"\";width: 100%;border-bottom: 1px solid gray;flex-grow: 1;}#sk-container-id-3 div.sk-label:hover label.sk-toggleable__label {background-color: #d4ebff;}#sk-container-id-3 div.sk-serial::before {content: \"\";position: absolute;border-left: 1px solid gray;box-sizing: border-box;top: 0;bottom: 0;left: 50%;z-index: 0;}#sk-container-id-3 div.sk-serial {display: flex;flex-direction: column;align-items: center;background-color: white;padding-right: 0.2em;padding-left: 0.2em;position: relative;}#sk-container-id-3 div.sk-item {position: relative;z-index: 1;}#sk-container-id-3 div.sk-parallel {display: flex;align-items: stretch;justify-content: center;background-color: white;position: relative;}#sk-container-id-3 div.sk-item::before, #sk-container-id-3 div.sk-parallel-item::before {content: \"\";position: absolute;border-left: 1px solid gray;box-sizing: border-box;top: 0;bottom: 0;left: 50%;z-index: -1;}#sk-container-id-3 div.sk-parallel-item {display: flex;flex-direction: column;z-index: 1;position: relative;background-color: white;}#sk-container-id-3 div.sk-parallel-item:first-child::after {align-self: flex-end;width: 50%;}#sk-container-id-3 div.sk-parallel-item:last-child::after {align-self: flex-start;width: 50%;}#sk-container-id-3 div.sk-parallel-item:only-child::after {width: 0;}#sk-container-id-3 div.sk-dashed-wrapped {border: 1px dashed gray;margin: 0 0.4em 0.5em 0.4em;box-sizing: border-box;padding-bottom: 0.4em;background-color: white;}#sk-container-id-3 div.sk-label label {font-family: monospace;font-weight: bold;display: inline-block;line-height: 1.2em;}#sk-container-id-3 div.sk-label-container {text-align: center;}#sk-container-id-3 div.sk-container {/* jupyter's `normalize.less` sets `[hidden] { display: none; }` but bootstrap.min.css set `[hidden] { display: none !important; }` so we also need the `!important` here to be able to override the default hidden behavior on the sphinx rendered scikit-learn.org. See: https://github.com/scikit-learn/scikit-learn/issues/21755 */display: inline-block !important;position: relative;}#sk-container-id-3 div.sk-text-repr-fallback {display: none;}</style><div id=\"sk-container-id-3\" class=\"sk-top-container\"><div class=\"sk-text-repr-fallback\"><pre>LogisticRegression(max_iter=1000)</pre><b>In a Jupyter environment, please rerun this cell to show the HTML representation or trust the notebook. <br />On GitHub, the HTML representation is unable to render, please try loading this page with nbviewer.org.</b></div><div class=\"sk-container\" hidden><div class=\"sk-item\"><div class=\"sk-estimator sk-toggleable\"><input class=\"sk-toggleable__control sk-hidden--visually\" id=\"sk-estimator-id-3\" type=\"checkbox\" checked><label for=\"sk-estimator-id-3\" class=\"sk-toggleable__label sk-toggleable__label-arrow\">LogisticRegression</label><div class=\"sk-toggleable__content\"><pre>LogisticRegression(max_iter=1000)</pre></div></div></div></div></div>"
            ],
            "text/plain": [
              "LogisticRegression(max_iter=1000)"
            ]
          },
          "execution_count": 44,
          "metadata": {},
          "output_type": "execute_result"
        }
      ],
      "source": [
        "model_log = LogisticRegression(max_iter =1000)\n",
        "model_log.fit(x_train_log, y_train_log)"
      ]
    },
    {
      "cell_type": "code",
      "execution_count": null,
      "id": "5e01c7ba-9ef5-43b5-b40a-9598ac2ba5cb",
      "metadata": {
        "id": "5e01c7ba-9ef5-43b5-b40a-9598ac2ba5cb"
      },
      "outputs": [],
      "source": [
        "y_pred_log = model_log.predict(x_test_log)"
      ]
    },
    {
      "cell_type": "code",
      "execution_count": null,
      "id": "5439bcaa-ed83-4a9a-9511-429148684c7b",
      "metadata": {
        "id": "5439bcaa-ed83-4a9a-9511-429148684c7b",
        "outputId": "6463e0fe-eff2-4da4-c42d-ac0f471d9fa0"
      },
      "outputs": [
        {
          "name": "stdout",
          "output_type": "stream",
          "text": [
            "Accuracy Logistic Regression: 0.865\n"
          ]
        }
      ],
      "source": [
        "accuracy_log = accuracy_score(y_test_log, y_pred_log)\n",
        "print(\"Accuracy Logistic Regression:\", accuracy_log)\n"
      ]
    },
    {
      "cell_type": "code",
      "execution_count": null,
      "id": "cd2dba44-126a-44bd-98f9-97116106fde0",
      "metadata": {
        "id": "cd2dba44-126a-44bd-98f9-97116106fde0",
        "outputId": "161101d7-d169-452f-ac58-2d46e44fd1d5"
      },
      "outputs": [
        {
          "data": {
            "text/html": [
              "<div>\n",
              "<style scoped>\n",
              "    .dataframe tbody tr th:only-of-type {\n",
              "        vertical-align: middle;\n",
              "    }\n",
              "\n",
              "    .dataframe tbody tr th {\n",
              "        vertical-align: top;\n",
              "    }\n",
              "\n",
              "    .dataframe thead th {\n",
              "        text-align: right;\n",
              "    }\n",
              "</style>\n",
              "<table border=\"1\" class=\"dataframe\">\n",
              "  <thead>\n",
              "    <tr style=\"text-align: right;\">\n",
              "      <th></th>\n",
              "      <th>Models</th>\n",
              "      <th>Accuracy_Scores</th>\n",
              "    </tr>\n",
              "  </thead>\n",
              "  <tbody>\n",
              "    <tr>\n",
              "      <th>0</th>\n",
              "      <td>Random forest Classifier:</td>\n",
              "      <td>0.89375</td>\n",
              "    </tr>\n",
              "    <tr>\n",
              "      <th>1</th>\n",
              "      <td>Logistic Regression:</td>\n",
              "      <td>0.86500</td>\n",
              "    </tr>\n",
              "  </tbody>\n",
              "</table>\n",
              "</div>"
            ],
            "text/plain": [
              "                      Models  Accuracy_Scores\n",
              "0  Random forest Classifier:          0.89375\n",
              "1       Logistic Regression:          0.86500"
            ]
          },
          "execution_count": 66,
          "metadata": {},
          "output_type": "execute_result"
        }
      ],
      "source": [
        "model_accuracy_table.loc[len(model_accuracy_table)]= [\"Logistic Regression:\", accuracy_log]\n",
        "model_accuracy_table"
      ]
    },
    {
      "cell_type": "code",
      "execution_count": null,
      "id": "24ddc0b0-48cb-413f-a7a4-1c710d5c684c",
      "metadata": {
        "id": "24ddc0b0-48cb-413f-a7a4-1c710d5c684c",
        "outputId": "fa81590b-3239-42cc-eff7-1d90ccee35de"
      },
      "outputs": [
        {
          "data": {
            "image/png": "[encoded data removed]",
            "text/plain": [
              "<Figure size 800x600 with 2 Axes>"
            ]
          },
          "metadata": {},
          "output_type": "display_data"
        }
      ],
      "source": [
        "# Confusion Matrix\n",
        "cm = confusion_matrix(y_test_log, y_pred_log)\n",
        "plt.figure(figsize=(8, 6))\n",
        "sns.heatmap(cm, annot=True, fmt='d', cmap='Blues')\n",
        "plt.xlabel('Predicted')\n",
        "plt.ylabel('Actual')\n",
        "plt.title('Confusion Matrix')\n",
        "plt.show()"
      ]
    },
    {
      "cell_type": "code",
      "execution_count": null,
      "id": "e1b52e43-24db-4de8-b0e9-339211eb1d25",
      "metadata": {
        "id": "e1b52e43-24db-4de8-b0e9-339211eb1d25",
        "outputId": "0c82bf9a-0075-489b-d77b-c052686bc647"
      },
      "outputs": [
        {
          "name": "stdout",
          "output_type": "stream",
          "text": [
            "Classification Report for Logistic Regression:\n",
            "              precision    recall  f1-score   support\n",
            "\n",
            "           0       0.88      0.98      0.93       288\n",
            "           1       0.70      0.27      0.39        52\n",
            "\n",
            "    accuracy                           0.87       340\n",
            "   macro avg       0.79      0.62      0.66       340\n",
            "weighted avg       0.85      0.87      0.85       340\n",
            "\n"
          ]
        }
      ],
      "source": [
        "# Classification Report\n",
        "print(\"Classification Report for Logistic Regression:\")\n",
        "print(classification_report(y_test_log, y_pred_log))"
      ]
    },
    {
      "cell_type": "code",
      "execution_count": null,
      "id": "a5fe014b-1e4d-4705-aced-c099f8f903d8",
      "metadata": {
        "id": "a5fe014b-1e4d-4705-aced-c099f8f903d8"
      },
      "outputs": [],
      "source": [
        "fpr, tpr, thresholds = roc_curve(y_test_log, y_pred_log)"
      ]
    },
    {
      "cell_type": "code",
      "execution_count": null,
      "id": "03c7b415-706e-4aa4-aa98-19b5e2b78140",
      "metadata": {
        "id": "03c7b415-706e-4aa4-aa98-19b5e2b78140",
        "outputId": "bf0c2840-5cb5-424a-ad42-b10a881b5682"
      },
      "outputs": [
        {
          "data": {
            "image/png": "[encoded data removed]",
            "text/plain": [
              "<Figure size 800x600 with 1 Axes>"
            ]
          },
          "metadata": {},
          "output_type": "display_data"
        }
      ],
      "source": [
        "plt.figure(figsize=(8, 6))\n",
        "plt.plot(fpr, tpr, color='orange', label='ROC curve')\n",
        "plt.plot([0, 1], [0, 1], color='blue', linestyle='--')\n",
        "plt.xlabel('False Positive Rate')\n",
        "plt.ylabel('True Positive Rate')\n",
        "plt.title('Receiver Operating Characteristic (ROC) Curve - Logistic Regression')\n",
        "plt.legend(loc=\"lower right\")\n",
        "plt.show()"
      ]
    },
    {
      "cell_type": "code",
      "execution_count": null,
      "id": "ad94f443-52b0-4467-b032-3b7c595230c3",
      "metadata": {
        "id": "ad94f443-52b0-4467-b032-3b7c595230c3",
        "outputId": "665b2709-964f-484b-9f0a-9f8ac75d0994"
      },
      "outputs": [
        {
          "name": "stdout",
          "output_type": "stream",
          "text": [
            "AUC Score using Logistic Regressor: 0.624198717948718\n"
          ]
        }
      ],
      "source": [
        "# AUC Score\n",
        "auc = roc_auc_score(y_test_log, y_pred_log)\n",
        "print(\"AUC Score using Logistic Regressor:\", auc)"
      ]
    },
    {
      "cell_type": "markdown",
      "id": "665997c1-ac06-4acc-a6f9-16a999812cc3",
      "metadata": {
        "id": "665997c1-ac06-4acc-a6f9-16a999812cc3"
      },
      "source": [
        "### Using KNN"
      ]
    },
    {
      "cell_type": "code",
      "execution_count": null,
      "id": "ec06b977-5970-4446-bc8c-61f78a72dd7f",
      "metadata": {
        "id": "ec06b977-5970-4446-bc8c-61f78a72dd7f"
      },
      "outputs": [],
      "source": [
        "from sklearn.neighbors import KNeighborsClassifier\n",
        "#splitting Train and Test data\n",
        "x_train_knn,x_test_knn,y_train_knn,y_test_knn = train_test_split(x,y,test_size=0.25, random_state =40)\n",
        "model_knn = KNeighborsClassifier(n_neighbors=3)\n",
        "model_knn.fit(x_train_knn, y_train_knn)\n",
        "y_pred_knn = model_knn.predict(x_test_knn)"
      ]
    },
    {
      "cell_type": "code",
      "execution_count": null,
      "id": "c5d1dc68-5acf-4af9-89ac-4f0a0691444f",
      "metadata": {
        "id": "c5d1dc68-5acf-4af9-89ac-4f0a0691444f",
        "outputId": "d603cd6f-a0d6-4d70-96e4-7ccf16e5db51"
      },
      "outputs": [
        {
          "name": "stdout",
          "output_type": "stream",
          "text": [
            "Accuracy KNN: 0.8325\n"
          ]
        }
      ],
      "source": [
        "#Accuracy score\n",
        "accuracy_knn = accuracy_score(y_test_knn, y_pred_knn)\n",
        "print(\"Accuracy KNN:\", accuracy_knn)\n"
      ]
    },
    {
      "cell_type": "code",
      "execution_count": null,
      "id": "4c090037-6280-4847-b989-05a7f435e13b",
      "metadata": {
        "id": "4c090037-6280-4847-b989-05a7f435e13b",
        "outputId": "e2755fbd-2bd3-4e84-ce29-e469102dd1fe"
      },
      "outputs": [
        {
          "name": "stdout",
          "output_type": "stream",
          "text": [
            "Classification Report using knn\n",
            "              precision    recall  f1-score   support\n",
            "\n",
            "           0       0.87      0.94      0.91       339\n",
            "           1       0.41      0.21      0.28        61\n",
            "\n",
            "    accuracy                           0.83       400\n",
            "   macro avg       0.64      0.58      0.59       400\n",
            "weighted avg       0.80      0.83      0.81       400\n",
            "\n"
          ]
        }
      ],
      "source": [
        "print(\"Classification Report using knn\")\n",
        "print(classification_report(y_test_knn, y_pred_knn))"
      ]
    },
    {
      "cell_type": "code",
      "execution_count": null,
      "id": "262fc087-554d-4696-a022-af1dc34a09e9",
      "metadata": {
        "id": "262fc087-554d-4696-a022-af1dc34a09e9",
        "outputId": "b769b657-6e94-4922-b758-d6117302ea9b"
      },
      "outputs": [
        {
          "name": "stdout",
          "output_type": "stream",
          "text": [
            "Confusion Matrix using KNN Model: [[320  19]\n",
            " [ 48  13]]\n"
          ]
        }
      ],
      "source": [
        "cm_knn = confusion_matrix(y_test_knn , y_pred_knn)\n",
        "print(\"Confusion Matrix using KNN Model:\", cm_knn)"
      ]
    },
    {
      "cell_type": "code",
      "execution_count": null,
      "id": "68da2a54-d4d5-4ae8-a225-ceaf883031a4",
      "metadata": {
        "id": "68da2a54-d4d5-4ae8-a225-ceaf883031a4",
        "outputId": "3f4a83b0-f47c-4d38-d035-2aa49c3ca373"
      },
      "outputs": [
        {
          "name": "stdout",
          "output_type": "stream",
          "text": [
            "AUC Score using Logistic Regressor: 0.5785337782291213\n"
          ]
        }
      ],
      "source": [
        "# AUC Score\n",
        "auc_knn = roc_auc_score(y_test_knn, y_pred_knn)\n",
        "print(\"AUC Score using Logistic Regressor:\", auc_knn)"
      ]
    },
    {
      "cell_type": "code",
      "execution_count": null,
      "id": "3b3fec14-2511-4e19-9a0b-3c3e4dad8133",
      "metadata": {
        "id": "3b3fec14-2511-4e19-9a0b-3c3e4dad8133",
        "outputId": "fdea98b2-a8f4-41c9-a997-a36889fba1bd"
      },
      "outputs": [
        {
          "data": {
            "text/html": [
              "<div>\n",
              "<style scoped>\n",
              "    .dataframe tbody tr th:only-of-type {\n",
              "        vertical-align: middle;\n",
              "    }\n",
              "\n",
              "    .dataframe tbody tr th {\n",
              "        vertical-align: top;\n",
              "    }\n",
              "\n",
              "    .dataframe thead th {\n",
              "        text-align: right;\n",
              "    }\n",
              "</style>\n",
              "<table border=\"1\" class=\"dataframe\">\n",
              "  <thead>\n",
              "    <tr style=\"text-align: right;\">\n",
              "      <th></th>\n",
              "      <th>Models</th>\n",
              "      <th>Accuracy_Scores</th>\n",
              "    </tr>\n",
              "  </thead>\n",
              "  <tbody>\n",
              "    <tr>\n",
              "      <th>0</th>\n",
              "      <td>Random forest Classifier:</td>\n",
              "      <td>0.89375</td>\n",
              "    </tr>\n",
              "    <tr>\n",
              "      <th>1</th>\n",
              "      <td>Logistic Regression:</td>\n",
              "      <td>0.86500</td>\n",
              "    </tr>\n",
              "    <tr>\n",
              "      <th>2</th>\n",
              "      <td>KNN</td>\n",
              "      <td>0.83250</td>\n",
              "    </tr>\n",
              "  </tbody>\n",
              "</table>\n",
              "</div>"
            ],
            "text/plain": [
              "                      Models  Accuracy_Scores\n",
              "0  Random forest Classifier:          0.89375\n",
              "1       Logistic Regression:          0.86500\n",
              "2                        KNN          0.83250"
            ]
          },
          "execution_count": 67,
          "metadata": {},
          "output_type": "execute_result"
        }
      ],
      "source": [
        "#Different models results Accuracy Dataframe:\n",
        "model_accuracy_table.loc[len(model_accuracy_table)]= [\"KNN\", accuracy_knn]\n",
        "model_accuracy_table"
      ]
    },
    {
      "cell_type": "code",
      "execution_count": null,
      "id": "5a937253-7165-4610-85b9-dd733ebf64ac",
      "metadata": {
        "id": "5a937253-7165-4610-85b9-dd733ebf64ac"
      },
      "outputs": [],
      "source": [
        "#The maximum accuracy is by using RandomForestClassifier model."
      ]
    },
    {
      "cell_type": "code",
      "execution_count": null,
      "id": "62ba06d9-fe20-48f1-bfb4-778b4d6dbd79",
      "metadata": {
        "id": "62ba06d9-fe20-48f1-bfb4-778b4d6dbd79"
      },
      "outputs": [],
      "source": []
    }
  ],
  "metadata": {
    "kernelspec": {
      "display_name": "Python 3 (ipykernel)",
      "language": "python",
      "name": "python3"
    },
    "language_info": {
      "codemirror_mode": {
        "name": "ipython",
        "version": 3
      },
      "file_extension": ".py",
      "mimetype": "text/x-python",
      "name": "python",
      "nbconvert_exporter": "python",
      "pygments_lexer": "ipython3",
      "version": "3.11.7"
    },
    "colab": {
      "provenance": []
    }
  },
  "nbformat": 4,
  "nbformat_minor": 5
}